{
 "cells": [
  {
   "cell_type": "markdown",
   "metadata": {},
   "source": [
    "# Overall Goals"
   ]
  },
  {
   "cell_type": "markdown",
   "metadata": {},
   "source": [
    "I will use the subset of available data in this workspace to begin analyzing churn in the \"Sparkify\" 128 MB example data set using a Spark framework. It will be possible to scale the work here to the larger 12 GB full data set because it is programmed using Spark.\n",
    "\n",
    "The project will involve several steps:\n",
    "1. Loading and Cleaning Data\n",
    "2. Exploratory Data Analysis\n",
    "3. Feature Engineering\n",
    "4. Classification Modeling"
   ]
  },
  {
   "cell_type": "markdown",
   "metadata": {},
   "source": [
    "First, I import a variety of pyspark libraries and begin the spark session"
   ]
  },
  {
   "cell_type": "code",
   "execution_count": 2,
   "metadata": {},
   "outputs": [],
   "source": [
    "# Import libraries that we will use in the rest of the project\n",
    "from pyspark.sql import SparkSession\n",
    "from pyspark.sql.functions import udf\n",
    "from pyspark.sql.types import StringType\n",
    "from pyspark.sql.types import IntegerType\n",
    "from pyspark.sql.functions import desc\n",
    "from pyspark.sql.functions import asc\n",
    "from pyspark.sql import Window\n",
    "from pyspark.sql.functions import isnan, count, when, col, desc, udf, col, sort_array, asc, avg, sum, max\n",
    "from pyspark.ml.feature import VectorAssembler, Normalizer, StandardScaler\n",
    "from pyspark.ml.tuning import ParamGridBuilder, CrossValidator\n",
    "\n",
    "from pyspark.ml.regression import LinearRegression\n",
    "from pyspark.ml.classification import RandomForestClassifier, LinearSVC, LogisticRegression\n",
    "from pyspark.ml.evaluation import MulticlassClassificationEvaluator\n",
    "\n",
    "import numpy as np\n",
    "import pandas as pd\n",
    "%matplotlib inline\n",
    "import matplotlib.pyplot as plt\n"
   ]
  },
  {
   "cell_type": "code",
   "execution_count": 3,
   "metadata": {},
   "outputs": [],
   "source": [
    "# Create a Spark session\n",
    "spark = SparkSession \\\n",
    "    .builder \\\n",
    "    .appName(\"Spark Project\") \\\n",
    "    .getOrCreate()"
   ]
  },
  {
   "cell_type": "markdown",
   "metadata": {},
   "source": [
    "# Load and Preprocess the Data"
   ]
  },
  {
   "cell_type": "markdown",
   "metadata": {},
   "source": [
    "Load the data set using the path for the project workspace"
   ]
  },
  {
   "cell_type": "code",
   "execution_count": 4,
   "metadata": {},
   "outputs": [],
   "source": [
    "# Set path and load dataset\n",
    "path = \"mini_sparkify_event_data.json\"\n",
    "user_log = spark.read.json(path)"
   ]
  },
  {
   "cell_type": "code",
   "execution_count": 5,
   "metadata": {},
   "outputs": [
    {
     "data": {
      "text/plain": [
       "[Row(artist='Martha Tilston', auth='Logged In', firstName='Colin', gender='M', itemInSession=50, lastName='Freeman', length=277.89016, level='paid', location='Bakersfield, CA', method='PUT', page='NextSong', registration=1538173362000, sessionId=29, song='Rockpools', status=200, ts=1538352117000, userAgent='Mozilla/5.0 (Windows NT 6.1; WOW64; rv:31.0) Gecko/20100101 Firefox/31.0', userId='30'),\n",
       " Row(artist='Five Iron Frenzy', auth='Logged In', firstName='Micah', gender='M', itemInSession=79, lastName='Long', length=236.09424, level='free', location='Boston-Cambridge-Newton, MA-NH', method='PUT', page='NextSong', registration=1538331630000, sessionId=8, song='Canada', status=200, ts=1538352180000, userAgent='\"Mozilla/5.0 (Windows NT 6.1; WOW64) AppleWebKit/537.36 (KHTML, like Gecko) Chrome/37.0.2062.103 Safari/537.36\"', userId='9'),\n",
       " Row(artist='Adam Lambert', auth='Logged In', firstName='Colin', gender='M', itemInSession=51, lastName='Freeman', length=282.8273, level='paid', location='Bakersfield, CA', method='PUT', page='NextSong', registration=1538173362000, sessionId=29, song='Time For Miracles', status=200, ts=1538352394000, userAgent='Mozilla/5.0 (Windows NT 6.1; WOW64; rv:31.0) Gecko/20100101 Firefox/31.0', userId='30')]"
      ]
     },
     "execution_count": 5,
     "metadata": {},
     "output_type": "execute_result"
    }
   ],
   "source": [
    "# Check first few entries to get an idea of the data\n",
    "user_log.take(3)"
   ]
  },
  {
   "cell_type": "markdown",
   "metadata": {},
   "source": [
    "Session ID and User ID fields have NaN values in some places.  There are not many, so we can drop the relevant rows which we cannot easily connect to a given user/session.  We can also remove rows with no User ID at all."
   ]
  },
  {
   "cell_type": "code",
   "execution_count": 6,
   "metadata": {},
   "outputs": [],
   "source": [
    "# Drop entries missing values for userID or sessionId\n",
    "user_log_valid = user_log.dropna(how = \"any\", subset = [\"userId\", \"sessionId\"])\n",
    "\n",
    "user_log_valid = user_log_valid.filter(user_log_valid[\"userId\"] != \"\")\n"
   ]
  },
  {
   "cell_type": "markdown",
   "metadata": {},
   "source": [
    "I want to find the total number of log entries in the data set to get a sense of scale"
   ]
  },
  {
   "cell_type": "code",
   "execution_count": 7,
   "metadata": {},
   "outputs": [
    {
     "data": {
      "text/plain": [
       "278154"
      ]
     },
     "execution_count": 7,
     "metadata": {},
     "output_type": "execute_result"
    }
   ],
   "source": [
    "# Find the total number of log entries\n",
    "user_log_valid.count()"
   ]
  },
  {
   "cell_type": "markdown",
   "metadata": {},
   "source": [
    "Print the overall schema for the data to see what options we have for feature extraction.  Also, examine the possible page options as those could be useful for creating features."
   ]
  },
  {
   "cell_type": "code",
   "execution_count": 7,
   "metadata": {},
   "outputs": [
    {
     "name": "stdout",
     "output_type": "stream",
     "text": [
      "root\n",
      " |-- artist: string (nullable = true)\n",
      " |-- auth: string (nullable = true)\n",
      " |-- firstName: string (nullable = true)\n",
      " |-- gender: string (nullable = true)\n",
      " |-- itemInSession: long (nullable = true)\n",
      " |-- lastName: string (nullable = true)\n",
      " |-- length: double (nullable = true)\n",
      " |-- level: string (nullable = true)\n",
      " |-- location: string (nullable = true)\n",
      " |-- method: string (nullable = true)\n",
      " |-- page: string (nullable = true)\n",
      " |-- registration: long (nullable = true)\n",
      " |-- sessionId: long (nullable = true)\n",
      " |-- song: string (nullable = true)\n",
      " |-- status: long (nullable = true)\n",
      " |-- ts: long (nullable = true)\n",
      " |-- userAgent: string (nullable = true)\n",
      " |-- userId: string (nullable = true)\n",
      "\n"
     ]
    }
   ],
   "source": [
    "# What are the existing data fields\n",
    "# Check Schema\n",
    "user_log.printSchema()"
   ]
  },
  {
   "cell_type": "code",
   "execution_count": 8,
   "metadata": {},
   "outputs": [
    {
     "name": "stdout",
     "output_type": "stream",
     "text": [
      "+--------------------+\n",
      "|                page|\n",
      "+--------------------+\n",
      "|              Cancel|\n",
      "|    Submit Downgrade|\n",
      "|         Thumbs Down|\n",
      "|                Home|\n",
      "|           Downgrade|\n",
      "|         Roll Advert|\n",
      "|              Logout|\n",
      "|       Save Settings|\n",
      "|Cancellation Conf...|\n",
      "|               About|\n",
      "|            Settings|\n",
      "|     Add to Playlist|\n",
      "|          Add Friend|\n",
      "|            NextSong|\n",
      "|           Thumbs Up|\n",
      "|                Help|\n",
      "|             Upgrade|\n",
      "|               Error|\n",
      "|      Submit Upgrade|\n",
      "+--------------------+\n",
      "\n"
     ]
    }
   ],
   "source": [
    "# Show all possible results for page and check for blanks\n",
    "user_log_valid.select(\"page\").dropDuplicates().show()"
   ]
  },
  {
   "cell_type": "markdown",
   "metadata": {},
   "source": [
    "# Exploratory Data Analysis"
   ]
  },
  {
   "cell_type": "markdown",
   "metadata": {},
   "source": [
    "Take a first look at the data by examing several entries and seeing what the page time series looks like for a single user"
   ]
  },
  {
   "cell_type": "code",
   "execution_count": 9,
   "metadata": {},
   "outputs": [
    {
     "data": {
      "text/plain": [
       "[Row(artist='Martha Tilston', auth='Logged In', firstName='Colin', gender='M', itemInSession=50, lastName='Freeman', length=277.89016, level='paid', location='Bakersfield, CA', method='PUT', page='NextSong', registration=1538173362000, sessionId=29, song='Rockpools', status=200, ts=1538352117000, userAgent='Mozilla/5.0 (Windows NT 6.1; WOW64; rv:31.0) Gecko/20100101 Firefox/31.0', userId='30'),\n",
       " Row(artist='Five Iron Frenzy', auth='Logged In', firstName='Micah', gender='M', itemInSession=79, lastName='Long', length=236.09424, level='free', location='Boston-Cambridge-Newton, MA-NH', method='PUT', page='NextSong', registration=1538331630000, sessionId=8, song='Canada', status=200, ts=1538352180000, userAgent='\"Mozilla/5.0 (Windows NT 6.1; WOW64) AppleWebKit/537.36 (KHTML, like Gecko) Chrome/37.0.2062.103 Safari/537.36\"', userId='9'),\n",
       " Row(artist='Adam Lambert', auth='Logged In', firstName='Colin', gender='M', itemInSession=51, lastName='Freeman', length=282.8273, level='paid', location='Bakersfield, CA', method='PUT', page='NextSong', registration=1538173362000, sessionId=29, song='Time For Miracles', status=200, ts=1538352394000, userAgent='Mozilla/5.0 (Windows NT 6.1; WOW64; rv:31.0) Gecko/20100101 Firefox/31.0', userId='30')]"
      ]
     },
     "execution_count": 9,
     "metadata": {},
     "output_type": "execute_result"
    }
   ],
   "source": [
    "#First look at what data looks like\n",
    "# Check first few entries\n",
    "user_log_valid.take(3)"
   ]
  },
  {
   "cell_type": "code",
   "execution_count": 12,
   "metadata": {},
   "outputs": [
    {
     "name": "stdout",
     "output_type": "stream",
     "text": [
      "+-------------+---------------+\n",
      "|           ts|           page|\n",
      "+-------------+---------------+\n",
      "|1538352117000|       NextSong|\n",
      "|1538352394000|       NextSong|\n",
      "|1538352676000|       NextSong|\n",
      "|1538352899000|       NextSong|\n",
      "|1538352905000|Add to Playlist|\n",
      "|1538353084000|       NextSong|\n",
      "|1538353218000|       NextSong|\n",
      "|1538353441000|       NextSong|\n",
      "|1538353687000|       NextSong|\n",
      "|1538353909000|       NextSong|\n",
      "+-------------+---------------+\n",
      "only showing top 10 rows\n",
      "\n"
     ]
    }
   ],
   "source": [
    "# Look at example series of entries for one user\n",
    "user_log_valid.select(\"ts\",\"page\").where(user_log_valid.userId == 30).show(10)"
   ]
  },
  {
   "cell_type": "markdown",
   "metadata": {},
   "source": [
    "### Define Churn\n",
    "\n",
    "Define a new column for churn called \"downgraded\" by flagging events where users either submitted downgrades or canceled subscriptions overall"
   ]
  },
  {
   "cell_type": "code",
   "execution_count": 14,
   "metadata": {},
   "outputs": [],
   "source": [
    "# Make function for flagging downgrade/delete account events\n",
    "flag_downgrade_event = udf(lambda x: 1 if (x == \"Submit Downgrade\" or x == \"Cancel\") else 0, IntegerType())"
   ]
  },
  {
   "cell_type": "code",
   "execution_count": 15,
   "metadata": {},
   "outputs": [],
   "source": [
    "# Add downgrade feature to user log\n",
    "user_log_valid = user_log_valid.withColumn(\"downgraded\", flag_downgrade_event(\"page\"))"
   ]
  },
  {
   "cell_type": "markdown",
   "metadata": {},
   "source": [
    "Parititioning the data set by user gives us a time series of user activity.  If a series ends with a churn event, we can classify them differently than users who didn't churn."
   ]
  },
  {
   "cell_type": "code",
   "execution_count": 16,
   "metadata": {},
   "outputs": [],
   "source": [
    "# Partition the data set by user\n",
    "windowval = Window.partitionBy(\"userId\").orderBy(desc(\"ts\")).rangeBetween(Window.unboundedPreceding, 0)\n",
    "\n",
    "# Add Phase feature to user log\n",
    "user_log_valid = user_log_valid.withColumn(\"phase\", sum(\"downgraded\").over(windowval))\n"
   ]
  },
  {
   "cell_type": "markdown",
   "metadata": {},
   "source": [
    "### Explore Data\n",
    "Explore the data by examining parameters which might be useful for modelling later."
   ]
  },
  {
   "cell_type": "markdown",
   "metadata": {},
   "source": [
    "Examine the possible values for the gender and level parameters, two things which might effect churn and are easy to turn into features"
   ]
  },
  {
   "cell_type": "code",
   "execution_count": 17,
   "metadata": {},
   "outputs": [
    {
     "name": "stdout",
     "output_type": "stream",
     "text": [
      "+-----+\n",
      "|level|\n",
      "+-----+\n",
      "| free|\n",
      "| paid|\n",
      "+-----+\n",
      "\n"
     ]
    }
   ],
   "source": [
    "# Show details of level field\n",
    "user_log_valid.select(\"level\").dropDuplicates().show()"
   ]
  },
  {
   "cell_type": "code",
   "execution_count": 18,
   "metadata": {},
   "outputs": [
    {
     "name": "stdout",
     "output_type": "stream",
     "text": [
      "+------+\n",
      "|gender|\n",
      "+------+\n",
      "|     F|\n",
      "|     M|\n",
      "+------+\n",
      "\n"
     ]
    }
   ],
   "source": [
    "# Show details of gender field\n",
    "user_log_valid.select(\"gender\").dropDuplicates().show()"
   ]
  },
  {
   "cell_type": "markdown",
   "metadata": {},
   "source": [
    "Visualize an example time series of how a user transitions between phases - a paid and free subscription level in this case."
   ]
  },
  {
   "cell_type": "code",
   "execution_count": 19,
   "metadata": {},
   "outputs": [
    {
     "data": {
      "text/plain": [
       "[Row(userId='30', sessionId=29, page='Add to Playlist', level='paid', phase=1, downgraded=0),\n",
       " Row(userId='30', sessionId=29, page='NextSong', level='paid', phase=1, downgraded=0),\n",
       " Row(userId='30', sessionId=29, page='NextSong', level='paid', phase=1, downgraded=0),\n",
       " Row(userId='30', sessionId=29, page='NextSong', level='paid', phase=1, downgraded=0),\n",
       " Row(userId='30', sessionId=29, page='NextSong', level='paid', phase=1, downgraded=0),\n",
       " Row(userId='30', sessionId=29, page='Roll Advert', level='paid', phase=1, downgraded=0),\n",
       " Row(userId='30', sessionId=29, page='NextSong', level='paid', phase=1, downgraded=0),\n",
       " Row(userId='30', sessionId=29, page='NextSong', level='paid', phase=1, downgraded=0),\n",
       " Row(userId='30', sessionId=29, page='NextSong', level='paid', phase=1, downgraded=0),\n",
       " Row(userId='30', sessionId=29, page='NextSong', level='paid', phase=1, downgraded=0),\n",
       " Row(userId='30', sessionId=29, page='NextSong', level='paid', phase=1, downgraded=0),\n",
       " Row(userId='30', sessionId=29, page='NextSong', level='paid', phase=1, downgraded=0),\n",
       " Row(userId='30', sessionId=29, page='Thumbs Up', level='paid', phase=1, downgraded=0),\n",
       " Row(userId='30', sessionId=29, page='NextSong', level='paid', phase=1, downgraded=0),\n",
       " Row(userId='30', sessionId=29, page='Thumbs Up', level='paid', phase=1, downgraded=0),\n",
       " Row(userId='30', sessionId=29, page='NextSong', level='paid', phase=1, downgraded=0),\n",
       " Row(userId='30', sessionId=29, page='NextSong', level='paid', phase=1, downgraded=0),\n",
       " Row(userId='30', sessionId=29, page='NextSong', level='paid', phase=1, downgraded=0),\n",
       " Row(userId='30', sessionId=29, page='NextSong', level='paid', phase=1, downgraded=0),\n",
       " Row(userId='30', sessionId=29, page='NextSong', level='paid', phase=1, downgraded=0),\n",
       " Row(userId='30', sessionId=29, page='Thumbs Down', level='paid', phase=1, downgraded=0),\n",
       " Row(userId='30', sessionId=29, page='NextSong', level='paid', phase=1, downgraded=0),\n",
       " Row(userId='30', sessionId=29, page='NextSong', level='paid', phase=1, downgraded=0),\n",
       " Row(userId='30', sessionId=29, page='NextSong', level='paid', phase=1, downgraded=0),\n",
       " Row(userId='30', sessionId=29, page='NextSong', level='paid', phase=1, downgraded=0),\n",
       " Row(userId='30', sessionId=29, page='NextSong', level='paid', phase=1, downgraded=0),\n",
       " Row(userId='30', sessionId=29, page='NextSong', level='paid', phase=1, downgraded=0),\n",
       " Row(userId='30', sessionId=29, page='NextSong', level='paid', phase=1, downgraded=0),\n",
       " Row(userId='30', sessionId=29, page='NextSong', level='paid', phase=1, downgraded=0),\n",
       " Row(userId='30', sessionId=29, page='NextSong', level='paid', phase=1, downgraded=0),\n",
       " Row(userId='30', sessionId=29, page='NextSong', level='paid', phase=1, downgraded=0),\n",
       " Row(userId='30', sessionId=29, page='NextSong', level='paid', phase=1, downgraded=0),\n",
       " Row(userId='30', sessionId=29, page='NextSong', level='paid', phase=1, downgraded=0),\n",
       " Row(userId='30', sessionId=29, page='NextSong', level='paid', phase=1, downgraded=0),\n",
       " Row(userId='30', sessionId=29, page='NextSong', level='paid', phase=1, downgraded=0),\n",
       " Row(userId='30', sessionId=29, page='NextSong', level='paid', phase=1, downgraded=0),\n",
       " Row(userId='30', sessionId=29, page='NextSong', level='paid', phase=1, downgraded=0),\n",
       " Row(userId='30', sessionId=29, page='Add to Playlist', level='paid', phase=1, downgraded=0),\n",
       " Row(userId='30', sessionId=29, page='NextSong', level='paid', phase=1, downgraded=0),\n",
       " Row(userId='30', sessionId=29, page='NextSong', level='paid', phase=1, downgraded=0),\n",
       " Row(userId='30', sessionId=29, page='NextSong', level='paid', phase=1, downgraded=0),\n",
       " Row(userId='30', sessionId=29, page='NextSong', level='paid', phase=1, downgraded=0),\n",
       " Row(userId='30', sessionId=264, page='Add Friend', level='paid', phase=1, downgraded=0),\n",
       " Row(userId='30', sessionId=264, page='NextSong', level='paid', phase=1, downgraded=0),\n",
       " Row(userId='30', sessionId=532, page='NextSong', level='free', phase=0, downgraded=0),\n",
       " Row(userId='30', sessionId=532, page='NextSong', level='free', phase=0, downgraded=0),\n",
       " Row(userId='30', sessionId=532, page='NextSong', level='free', phase=0, downgraded=0),\n",
       " Row(userId='30', sessionId=532, page='NextSong', level='free', phase=0, downgraded=0),\n",
       " Row(userId='30', sessionId=532, page='Home', level='free', phase=0, downgraded=0),\n",
       " Row(userId='30', sessionId=532, page='NextSong', level='free', phase=0, downgraded=0),\n",
       " Row(userId='30', sessionId=532, page='NextSong', level='free', phase=0, downgraded=0),\n",
       " Row(userId='30', sessionId=532, page='NextSong', level='free', phase=0, downgraded=0),\n",
       " Row(userId='30', sessionId=532, page='Roll Advert', level='free', phase=0, downgraded=0),\n",
       " Row(userId='30', sessionId=532, page='NextSong', level='free', phase=0, downgraded=0),\n",
       " Row(userId='30', sessionId=532, page='Home', level='free', phase=0, downgraded=0),\n",
       " Row(userId='30', sessionId=532, page='Add Friend', level='free', phase=0, downgraded=0),\n",
       " Row(userId='30', sessionId=532, page='Add Friend', level='free', phase=0, downgraded=0),\n",
       " Row(userId='30', sessionId=532, page='NextSong', level='free', phase=0, downgraded=0),\n",
       " Row(userId='30', sessionId=532, page='NextSong', level='free', phase=0, downgraded=0),\n",
       " Row(userId='30', sessionId=532, page='NextSong', level='free', phase=0, downgraded=0),\n",
       " Row(userId='30', sessionId=532, page='NextSong', level='free', phase=0, downgraded=0),\n",
       " Row(userId='30', sessionId=532, page='Thumbs Up', level='free', phase=0, downgraded=0),\n",
       " Row(userId='30', sessionId=532, page='NextSong', level='free', phase=0, downgraded=0),\n",
       " Row(userId='30', sessionId=532, page='NextSong', level='free', phase=0, downgraded=0),\n",
       " Row(userId='30', sessionId=532, page='Home', level='free', phase=0, downgraded=0),\n",
       " Row(userId='30', sessionId=532, page='NextSong', level='free', phase=0, downgraded=0),\n",
       " Row(userId='30', sessionId=532, page='Add to Playlist', level='free', phase=0, downgraded=0),\n",
       " Row(userId='30', sessionId=532, page='NextSong', level='free', phase=0, downgraded=0),\n",
       " Row(userId='30', sessionId=532, page='NextSong', level='free', phase=0, downgraded=0),\n",
       " Row(userId='30', sessionId=532, page='NextSong', level='free', phase=0, downgraded=0),\n",
       " Row(userId='30', sessionId=532, page='Roll Advert', level='free', phase=0, downgraded=0),\n",
       " Row(userId='30', sessionId=532, page='NextSong', level='free', phase=0, downgraded=0),\n",
       " Row(userId='30', sessionId=532, page='NextSong', level='free', phase=0, downgraded=0),\n",
       " Row(userId='30', sessionId=532, page='NextSong', level='free', phase=0, downgraded=0),\n",
       " Row(userId='30', sessionId=532, page='Thumbs Up', level='free', phase=0, downgraded=0),\n",
       " Row(userId='30', sessionId=532, page='NextSong', level='free', phase=0, downgraded=0),\n",
       " Row(userId='30', sessionId=532, page='NextSong', level='free', phase=0, downgraded=0),\n",
       " Row(userId='30', sessionId=532, page='NextSong', level='free', phase=0, downgraded=0),\n",
       " Row(userId='30', sessionId=532, page='Thumbs Up', level='free', phase=0, downgraded=0),\n",
       " Row(userId='30', sessionId=532, page='NextSong', level='free', phase=0, downgraded=0),\n",
       " Row(userId='30', sessionId=532, page='NextSong', level='free', phase=0, downgraded=0),\n",
       " Row(userId='30', sessionId=532, page='NextSong', level='free', phase=0, downgraded=0),\n",
       " Row(userId='30', sessionId=532, page='NextSong', level='free', phase=0, downgraded=0),\n",
       " Row(userId='30', sessionId=532, page='NextSong', level='free', phase=0, downgraded=0),\n",
       " Row(userId='30', sessionId=532, page='NextSong', level='free', phase=0, downgraded=0),\n",
       " Row(userId='30', sessionId=532, page='Add to Playlist', level='free', phase=0, downgraded=0),\n",
       " Row(userId='30', sessionId=532, page='NextSong', level='free', phase=0, downgraded=0),\n",
       " Row(userId='30', sessionId=532, page='NextSong', level='free', phase=0, downgraded=0),\n",
       " Row(userId='30', sessionId=532, page='Upgrade', level='free', phase=0, downgraded=0),\n",
       " Row(userId='30', sessionId=532, page='NextSong', level='free', phase=0, downgraded=0),\n",
       " Row(userId='30', sessionId=532, page='Upgrade', level='free', phase=0, downgraded=0),\n",
       " Row(userId='30', sessionId=532, page='NextSong', level='free', phase=0, downgraded=0),\n",
       " Row(userId='30', sessionId=532, page='NextSong', level='free', phase=0, downgraded=0),\n",
       " Row(userId='30', sessionId=532, page='NextSong', level='free', phase=0, downgraded=0),\n",
       " Row(userId='30', sessionId=532, page='NextSong', level='free', phase=0, downgraded=0),\n",
       " Row(userId='30', sessionId=532, page='NextSong', level='free', phase=0, downgraded=0),\n",
       " Row(userId='30', sessionId=532, page='NextSong', level='free', phase=0, downgraded=0),\n",
       " Row(userId='30', sessionId=532, page='NextSong', level='free', phase=0, downgraded=0),\n",
       " Row(userId='30', sessionId=532, page='NextSong', level='free', phase=0, downgraded=0),\n",
       " Row(userId='30', sessionId=532, page='NextSong', level='free', phase=0, downgraded=0),\n",
       " Row(userId='30', sessionId=532, page='NextSong', level='free', phase=0, downgraded=0),\n",
       " Row(userId='30', sessionId=532, page='NextSong', level='free', phase=0, downgraded=0),\n",
       " Row(userId='30', sessionId=532, page='NextSong', level='free', phase=0, downgraded=0),\n",
       " Row(userId='30', sessionId=532, page='Add to Playlist', level='free', phase=0, downgraded=0),\n",
       " Row(userId='30', sessionId=532, page='NextSong', level='free', phase=0, downgraded=0),\n",
       " Row(userId='30', sessionId=532, page='Thumbs Up', level='free', phase=0, downgraded=0),\n",
       " Row(userId='30', sessionId=532, page='NextSong', level='free', phase=0, downgraded=0),\n",
       " Row(userId='30', sessionId=532, page='NextSong', level='free', phase=0, downgraded=0),\n",
       " Row(userId='30', sessionId=532, page='NextSong', level='free', phase=0, downgraded=0),\n",
       " Row(userId='30', sessionId=532, page='NextSong', level='free', phase=0, downgraded=0),\n",
       " Row(userId='30', sessionId=532, page='Home', level='free', phase=0, downgraded=0),\n",
       " Row(userId='30', sessionId=532, page='NextSong', level='free', phase=0, downgraded=0),\n",
       " Row(userId='30', sessionId=532, page='NextSong', level='free', phase=0, downgraded=0),\n",
       " Row(userId='30', sessionId=532, page='NextSong', level='free', phase=0, downgraded=0),\n",
       " Row(userId='30', sessionId=532, page='Add to Playlist', level='free', phase=0, downgraded=0),\n",
       " Row(userId='30', sessionId=532, page='NextSong', level='free', phase=0, downgraded=0),\n",
       " Row(userId='30', sessionId=532, page='NextSong', level='free', phase=0, downgraded=0),\n",
       " Row(userId='30', sessionId=532, page='NextSong', level='free', phase=0, downgraded=0),\n",
       " Row(userId='30', sessionId=532, page='Home', level='free', phase=0, downgraded=0),\n",
       " Row(userId='30', sessionId=532, page='Submit Downgrade', level='paid', phase=1, downgraded=1),\n",
       " Row(userId='30', sessionId=532, page='Downgrade', level='paid', phase=1, downgraded=0),\n",
       " Row(userId='30', sessionId=532, page='NextSong', level='paid', phase=1, downgraded=0),\n",
       " Row(userId='30', sessionId=532, page='NextSong', level='paid', phase=1, downgraded=0),\n",
       " Row(userId='30', sessionId=532, page='NextSong', level='paid', phase=1, downgraded=0),\n",
       " Row(userId='30', sessionId=532, page='NextSong', level='paid', phase=1, downgraded=0),\n",
       " Row(userId='30', sessionId=532, page='NextSong', level='paid', phase=1, downgraded=0),\n",
       " Row(userId='30', sessionId=532, page='Downgrade', level='paid', phase=1, downgraded=0),\n",
       " Row(userId='30', sessionId=532, page='NextSong', level='paid', phase=1, downgraded=0),\n",
       " Row(userId='30', sessionId=532, page='NextSong', level='paid', phase=1, downgraded=0),\n",
       " Row(userId='30', sessionId=532, page='NextSong', level='paid', phase=1, downgraded=0),\n",
       " Row(userId='30', sessionId=532, page='NextSong', level='paid', phase=1, downgraded=0),\n",
       " Row(userId='30', sessionId=532, page='NextSong', level='paid', phase=1, downgraded=0),\n",
       " Row(userId='30', sessionId=532, page='NextSong', level='paid', phase=1, downgraded=0),\n",
       " Row(userId='30', sessionId=532, page='NextSong', level='paid', phase=1, downgraded=0),\n",
       " Row(userId='30', sessionId=532, page='NextSong', level='paid', phase=1, downgraded=0),\n",
       " Row(userId='30', sessionId=532, page='NextSong', level='paid', phase=1, downgraded=0),\n",
       " Row(userId='30', sessionId=532, page='NextSong', level='paid', phase=1, downgraded=0),\n",
       " Row(userId='30', sessionId=532, page='Error', level='paid', phase=1, downgraded=0),\n",
       " Row(userId='30', sessionId=532, page='NextSong', level='paid', phase=1, downgraded=0),\n",
       " Row(userId='30', sessionId=532, page='NextSong', level='paid', phase=1, downgraded=0),\n",
       " Row(userId='30', sessionId=532, page='Add to Playlist', level='paid', phase=1, downgraded=0),\n",
       " Row(userId='30', sessionId=532, page='NextSong', level='paid', phase=1, downgraded=0),\n",
       " Row(userId='30', sessionId=532, page='NextSong', level='paid', phase=1, downgraded=0),\n",
       " Row(userId='30', sessionId=532, page='NextSong', level='paid', phase=1, downgraded=0),\n",
       " Row(userId='30', sessionId=532, page='NextSong', level='paid', phase=1, downgraded=0),\n",
       " Row(userId='30', sessionId=532, page='NextSong', level='paid', phase=1, downgraded=0),\n",
       " Row(userId='30', sessionId=532, page='NextSong', level='paid', phase=1, downgraded=0),\n",
       " Row(userId='30', sessionId=532, page='NextSong', level='paid', phase=1, downgraded=0),\n",
       " Row(userId='30', sessionId=532, page='NextSong', level='paid', phase=1, downgraded=0),\n",
       " Row(userId='30', sessionId=532, page='NextSong', level='paid', phase=1, downgraded=0),\n",
       " Row(userId='30', sessionId=532, page='NextSong', level='paid', phase=1, downgraded=0),\n",
       " Row(userId='30', sessionId=532, page='NextSong', level='paid', phase=1, downgraded=0),\n",
       " Row(userId='30', sessionId=532, page='NextSong', level='paid', phase=1, downgraded=0),\n",
       " Row(userId='30', sessionId=532, page='Thumbs Up', level='paid', phase=1, downgraded=0),\n",
       " Row(userId='30', sessionId=532, page='NextSong', level='paid', phase=1, downgraded=0),\n",
       " Row(userId='30', sessionId=532, page='NextSong', level='paid', phase=1, downgraded=0),\n",
       " Row(userId='30', sessionId=532, page='NextSong', level='paid', phase=1, downgraded=0),\n",
       " Row(userId='30', sessionId=532, page='NextSong', level='paid', phase=1, downgraded=0),\n",
       " Row(userId='30', sessionId=532, page='Settings', level='paid', phase=1, downgraded=0),\n",
       " Row(userId='30', sessionId=532, page='NextSong', level='paid', phase=1, downgraded=0),\n",
       " Row(userId='30', sessionId=532, page='NextSong', level='paid', phase=1, downgraded=0),\n",
       " Row(userId='30', sessionId=532, page='NextSong', level='paid', phase=1, downgraded=0),\n",
       " Row(userId='30', sessionId=532, page='Add to Playlist', level='paid', phase=1, downgraded=0),\n",
       " Row(userId='30', sessionId=532, page='NextSong', level='paid', phase=1, downgraded=0),\n",
       " Row(userId='30', sessionId=532, page='Add Friend', level='paid', phase=1, downgraded=0),\n",
       " Row(userId='30', sessionId=532, page='Add Friend', level='paid', phase=1, downgraded=0),\n",
       " Row(userId='30', sessionId=532, page='NextSong', level='paid', phase=1, downgraded=0),\n",
       " Row(userId='30', sessionId=532, page='NextSong', level='paid', phase=1, downgraded=0),\n",
       " Row(userId='30', sessionId=532, page='Thumbs Up', level='paid', phase=1, downgraded=0),\n",
       " Row(userId='30', sessionId=532, page='NextSong', level='paid', phase=1, downgraded=0),\n",
       " Row(userId='30', sessionId=532, page='NextSong', level='paid', phase=1, downgraded=0),\n",
       " Row(userId='30', sessionId=532, page='NextSong', level='paid', phase=1, downgraded=0),\n",
       " Row(userId='30', sessionId=532, page='NextSong', level='paid', phase=1, downgraded=0),\n",
       " Row(userId='30', sessionId=532, page='NextSong', level='paid', phase=1, downgraded=0),\n",
       " Row(userId='30', sessionId=532, page='NextSong', level='paid', phase=1, downgraded=0),\n",
       " Row(userId='30', sessionId=532, page='NextSong', level='paid', phase=1, downgraded=0),\n",
       " Row(userId='30', sessionId=532, page='NextSong', level='paid', phase=1, downgraded=0),\n",
       " Row(userId='30', sessionId=532, page='NextSong', level='paid', phase=1, downgraded=0),\n",
       " Row(userId='30', sessionId=532, page='NextSong', level='paid', phase=1, downgraded=0),\n",
       " Row(userId='30', sessionId=532, page='NextSong', level='paid', phase=1, downgraded=0),\n",
       " Row(userId='30', sessionId=532, page='NextSong', level='paid', phase=1, downgraded=0),\n",
       " Row(userId='30', sessionId=532, page='NextSong', level='paid', phase=1, downgraded=0),\n",
       " Row(userId='30', sessionId=532, page='NextSong', level='paid', phase=1, downgraded=0),\n",
       " Row(userId='30', sessionId=532, page='NextSong', level='paid', phase=1, downgraded=0),\n",
       " Row(userId='30', sessionId=532, page='NextSong', level='paid', phase=1, downgraded=0),\n",
       " Row(userId='30', sessionId=532, page='NextSong', level='paid', phase=1, downgraded=0),\n",
       " Row(userId='30', sessionId=532, page='NextSong', level='paid', phase=1, downgraded=0),\n",
       " Row(userId='30', sessionId=532, page='NextSong', level='paid', phase=1, downgraded=0),\n",
       " Row(userId='30', sessionId=532, page='Thumbs Up', level='paid', phase=1, downgraded=0),\n",
       " Row(userId='30', sessionId=532, page='NextSong', level='paid', phase=1, downgraded=0),\n",
       " Row(userId='30', sessionId=532, page='NextSong', level='paid', phase=1, downgraded=0),\n",
       " Row(userId='30', sessionId=532, page='NextSong', level='paid', phase=1, downgraded=0),\n",
       " Row(userId='30', sessionId=532, page='NextSong', level='paid', phase=1, downgraded=0),\n",
       " Row(userId='30', sessionId=532, page='NextSong', level='paid', phase=1, downgraded=0),\n",
       " Row(userId='30', sessionId=532, page='Home', level='paid', phase=1, downgraded=0),\n",
       " Row(userId='30', sessionId=532, page='NextSong', level='paid', phase=1, downgraded=0),\n",
       " Row(userId='30', sessionId=532, page='Thumbs Up', level='paid', phase=1, downgraded=0),\n",
       " Row(userId='30', sessionId=532, page='NextSong', level='paid', phase=1, downgraded=0),\n",
       " Row(userId='30', sessionId=532, page='NextSong', level='paid', phase=1, downgraded=0),\n",
       " Row(userId='30', sessionId=532, page='NextSong', level='paid', phase=1, downgraded=0),\n",
       " Row(userId='30', sessionId=532, page='NextSong', level='paid', phase=1, downgraded=0),\n",
       " Row(userId='30', sessionId=532, page='NextSong', level='paid', phase=1, downgraded=0),\n",
       " Row(userId='30', sessionId=532, page='NextSong', level='paid', phase=1, downgraded=0),\n",
       " Row(userId='30', sessionId=532, page='NextSong', level='paid', phase=1, downgraded=0),\n",
       " Row(userId='30', sessionId=532, page='NextSong', level='paid', phase=1, downgraded=0),\n",
       " Row(userId='30', sessionId=532, page='NextSong', level='paid', phase=1, downgraded=0),\n",
       " Row(userId='30', sessionId=532, page='NextSong', level='paid', phase=1, downgraded=0),\n",
       " Row(userId='30', sessionId=532, page='NextSong', level='paid', phase=1, downgraded=0),\n",
       " Row(userId='30', sessionId=532, page='NextSong', level='paid', phase=1, downgraded=0),\n",
       " Row(userId='30', sessionId=532, page='NextSong', level='paid', phase=1, downgraded=0),\n",
       " Row(userId='30', sessionId=532, page='NextSong', level='paid', phase=1, downgraded=0),\n",
       " Row(userId='30', sessionId=532, page='NextSong', level='paid', phase=1, downgraded=0),\n",
       " Row(userId='30', sessionId=532, page='NextSong', level='paid', phase=1, downgraded=0),\n",
       " Row(userId='30', sessionId=532, page='NextSong', level='paid', phase=1, downgraded=0),\n",
       " Row(userId='30', sessionId=532, page='NextSong', level='paid', phase=1, downgraded=0),\n",
       " Row(userId='30', sessionId=532, page='NextSong', level='paid', phase=1, downgraded=0),\n",
       " Row(userId='30', sessionId=532, page='Thumbs Up', level='paid', phase=1, downgraded=0),\n",
       " Row(userId='30', sessionId=532, page='NextSong', level='paid', phase=1, downgraded=0),\n",
       " Row(userId='30', sessionId=532, page='NextSong', level='paid', phase=1, downgraded=0),\n",
       " Row(userId='30', sessionId=532, page='NextSong', level='paid', phase=1, downgraded=0),\n",
       " Row(userId='30', sessionId=532, page='NextSong', level='paid', phase=1, downgraded=0),\n",
       " Row(userId='30', sessionId=532, page='Add Friend', level='paid', phase=1, downgraded=0),\n",
       " Row(userId='30', sessionId=532, page='NextSong', level='paid', phase=1, downgraded=0),\n",
       " Row(userId='30', sessionId=532, page='NextSong', level='paid', phase=1, downgraded=0),\n",
       " Row(userId='30', sessionId=532, page='NextSong', level='paid', phase=1, downgraded=0),\n",
       " Row(userId='30', sessionId=532, page='Home', level='paid', phase=1, downgraded=0),\n",
       " Row(userId='30', sessionId=532, page='NextSong', level='paid', phase=1, downgraded=0),\n",
       " Row(userId='30', sessionId=532, page='NextSong', level='paid', phase=1, downgraded=0),\n",
       " Row(userId='30', sessionId=532, page='Thumbs Up', level='paid', phase=1, downgraded=0),\n",
       " Row(userId='30', sessionId=532, page='NextSong', level='paid', phase=1, downgraded=0),\n",
       " Row(userId='30', sessionId=532, page='NextSong', level='paid', phase=1, downgraded=0),\n",
       " Row(userId='30', sessionId=532, page='NextSong', level='paid', phase=1, downgraded=0),\n",
       " Row(userId='30', sessionId=532, page='NextSong', level='paid', phase=1, downgraded=0),\n",
       " Row(userId='30', sessionId=532, page='NextSong', level='paid', phase=1, downgraded=0),\n",
       " Row(userId='30', sessionId=532, page='NextSong', level='paid', phase=1, downgraded=0),\n",
       " Row(userId='30', sessionId=532, page='NextSong', level='paid', phase=1, downgraded=0),\n",
       " Row(userId='30', sessionId=532, page='NextSong', level='paid', phase=1, downgraded=0),\n",
       " Row(userId='30', sessionId=532, page='Add to Playlist', level='paid', phase=1, downgraded=0),\n",
       " Row(userId='30', sessionId=532, page='NextSong', level='paid', phase=1, downgraded=0),\n",
       " Row(userId='30', sessionId=532, page='Add to Playlist', level='paid', phase=1, downgraded=0),\n",
       " Row(userId='30', sessionId=532, page='Thumbs Up', level='paid', phase=1, downgraded=0),\n",
       " Row(userId='30', sessionId=532, page='NextSong', level='paid', phase=1, downgraded=0),\n",
       " Row(userId='30', sessionId=532, page='NextSong', level='paid', phase=1, downgraded=0),\n",
       " Row(userId='30', sessionId=532, page='Add to Playlist', level='paid', phase=1, downgraded=0),\n",
       " Row(userId='30', sessionId=532, page='Thumbs Up', level='paid', phase=1, downgraded=0),\n",
       " Row(userId='30', sessionId=532, page='NextSong', level='paid', phase=1, downgraded=0),\n",
       " Row(userId='30', sessionId=532, page='NextSong', level='paid', phase=1, downgraded=0),\n",
       " Row(userId='30', sessionId=532, page='Add to Playlist', level='paid', phase=1, downgraded=0),\n",
       " Row(userId='30', sessionId=532, page='NextSong', level='paid', phase=1, downgraded=0),\n",
       " Row(userId='30', sessionId=532, page='NextSong', level='paid', phase=1, downgraded=0),\n",
       " Row(userId='30', sessionId=532, page='NextSong', level='paid', phase=1, downgraded=0),\n",
       " Row(userId='30', sessionId=532, page='NextSong', level='paid', phase=1, downgraded=0),\n",
       " Row(userId='30', sessionId=532, page='NextSong', level='paid', phase=1, downgraded=0),\n",
       " Row(userId='30', sessionId=532, page='NextSong', level='paid', phase=1, downgraded=0),\n",
       " Row(userId='30', sessionId=532, page='NextSong', level='paid', phase=1, downgraded=0),\n",
       " Row(userId='30', sessionId=532, page='Home', level='paid', phase=1, downgraded=0),\n",
       " Row(userId='30', sessionId=532, page='NextSong', level='paid', phase=1, downgraded=0),\n",
       " Row(userId='30', sessionId=532, page='NextSong', level='paid', phase=1, downgraded=0),\n",
       " Row(userId='30', sessionId=532, page='NextSong', level='paid', phase=1, downgraded=0),\n",
       " Row(userId='30', sessionId=532, page='NextSong', level='paid', phase=1, downgraded=0),\n",
       " Row(userId='30', sessionId=532, page='NextSong', level='paid', phase=1, downgraded=0),\n",
       " Row(userId='30', sessionId=532, page='NextSong', level='paid', phase=1, downgraded=0),\n",
       " Row(userId='30', sessionId=532, page='NextSong', level='paid', phase=1, downgraded=0),\n",
       " Row(userId='30', sessionId=532, page='NextSong', level='paid', phase=1, downgraded=0),\n",
       " Row(userId='30', sessionId=532, page='Thumbs Up', level='paid', phase=1, downgraded=0),\n",
       " Row(userId='30', sessionId=532, page='NextSong', level='paid', phase=1, downgraded=0),\n",
       " Row(userId='30', sessionId=532, page='Thumbs Up', level='paid', phase=1, downgraded=0),\n",
       " Row(userId='30', sessionId=532, page='NextSong', level='paid', phase=1, downgraded=0),\n",
       " Row(userId='30', sessionId=532, page='NextSong', level='paid', phase=1, downgraded=0),\n",
       " Row(userId='30', sessionId=532, page='NextSong', level='paid', phase=1, downgraded=0),\n",
       " Row(userId='30', sessionId=532, page='NextSong', level='paid', phase=1, downgraded=0),\n",
       " Row(userId='30', sessionId=532, page='NextSong', level='paid', phase=1, downgraded=0),\n",
       " Row(userId='30', sessionId=532, page='NextSong', level='paid', phase=1, downgraded=0),\n",
       " Row(userId='30', sessionId=532, page='NextSong', level='paid', phase=1, downgraded=0),\n",
       " Row(userId='30', sessionId=532, page='NextSong', level='paid', phase=1, downgraded=0),\n",
       " Row(userId='30', sessionId=532, page='NextSong', level='paid', phase=1, downgraded=0),\n",
       " Row(userId='30', sessionId=532, page='NextSong', level='paid', phase=1, downgraded=0),\n",
       " Row(userId='30', sessionId=532, page='NextSong', level='paid', phase=1, downgraded=0),\n",
       " Row(userId='30', sessionId=532, page='NextSong', level='paid', phase=1, downgraded=0),\n",
       " Row(userId='30', sessionId=532, page='NextSong', level='paid', phase=1, downgraded=0),\n",
       " Row(userId='30', sessionId=532, page='NextSong', level='paid', phase=1, downgraded=0),\n",
       " Row(userId='30', sessionId=532, page='NextSong', level='paid', phase=1, downgraded=0),\n",
       " Row(userId='30', sessionId=532, page='NextSong', level='paid', phase=1, downgraded=0),\n",
       " Row(userId='30', sessionId=532, page='NextSong', level='paid', phase=1, downgraded=0),\n",
       " Row(userId='30', sessionId=532, page='NextSong', level='paid', phase=1, downgraded=0),\n",
       " Row(userId='30', sessionId=532, page='NextSong', level='paid', phase=1, downgraded=0),\n",
       " Row(userId='30', sessionId=532, page='NextSong', level='paid', phase=1, downgraded=0),\n",
       " Row(userId='30', sessionId=532, page='NextSong', level='paid', phase=1, downgraded=0),\n",
       " Row(userId='30', sessionId=532, page='NextSong', level='paid', phase=1, downgraded=0),\n",
       " Row(userId='30', sessionId=532, page='NextSong', level='paid', phase=1, downgraded=0),\n",
       " Row(userId='30', sessionId=532, page='NextSong', level='paid', phase=1, downgraded=0),\n",
       " Row(userId='30', sessionId=532, page='NextSong', level='paid', phase=1, downgraded=0),\n",
       " Row(userId='30', sessionId=532, page='NextSong', level='paid', phase=1, downgraded=0),\n",
       " Row(userId='30', sessionId=532, page='NextSong', level='paid', phase=1, downgraded=0),\n",
       " Row(userId='30', sessionId=532, page='NextSong', level='paid', phase=1, downgraded=0),\n",
       " Row(userId='30', sessionId=532, page='NextSong', level='paid', phase=1, downgraded=0),\n",
       " Row(userId='30', sessionId=532, page='NextSong', level='paid', phase=1, downgraded=0),\n",
       " Row(userId='30', sessionId=532, page='NextSong', level='paid', phase=1, downgraded=0),\n",
       " Row(userId='30', sessionId=532, page='NextSong', level='paid', phase=1, downgraded=0),\n",
       " Row(userId='30', sessionId=532, page='NextSong', level='paid', phase=1, downgraded=0),\n",
       " Row(userId='30', sessionId=532, page='NextSong', level='paid', phase=1, downgraded=0),\n",
       " Row(userId='30', sessionId=532, page='NextSong', level='paid', phase=1, downgraded=0),\n",
       " Row(userId='30', sessionId=532, page='NextSong', level='paid', phase=1, downgraded=0),\n",
       " Row(userId='30', sessionId=532, page='NextSong', level='paid', phase=1, downgraded=0),\n",
       " Row(userId='30', sessionId=532, page='NextSong', level='paid', phase=1, downgraded=0),\n",
       " Row(userId='30', sessionId=532, page='NextSong', level='paid', phase=1, downgraded=0),\n",
       " Row(userId='30', sessionId=532, page='NextSong', level='paid', phase=1, downgraded=0),\n",
       " Row(userId='30', sessionId=532, page='Downgrade', level='paid', phase=1, downgraded=0),\n",
       " Row(userId='30', sessionId=532, page='NextSong', level='paid', phase=1, downgraded=0),\n",
       " Row(userId='30', sessionId=532, page='NextSong', level='paid', phase=1, downgraded=0),\n",
       " Row(userId='30', sessionId=532, page='NextSong', level='paid', phase=1, downgraded=0),\n",
       " Row(userId='30', sessionId=532, page='NextSong', level='paid', phase=1, downgraded=0),\n",
       " Row(userId='30', sessionId=532, page='NextSong', level='paid', phase=1, downgraded=0),\n",
       " Row(userId='30', sessionId=532, page='NextSong', level='paid', phase=1, downgraded=0),\n",
       " Row(userId='30', sessionId=532, page='NextSong', level='paid', phase=1, downgraded=0),\n",
       " Row(userId='30', sessionId=532, page='NextSong', level='paid', phase=1, downgraded=0),\n",
       " Row(userId='30', sessionId=532, page='NextSong', level='paid', phase=1, downgraded=0),\n",
       " Row(userId='30', sessionId=532, page='NextSong', level='paid', phase=1, downgraded=0),\n",
       " Row(userId='30', sessionId=532, page='NextSong', level='paid', phase=1, downgraded=0),\n",
       " Row(userId='30', sessionId=532, page='NextSong', level='paid', phase=1, downgraded=0),\n",
       " Row(userId='30', sessionId=532, page='NextSong', level='paid', phase=1, downgraded=0),\n",
       " Row(userId='30', sessionId=532, page='Home', level='paid', phase=1, downgraded=0),\n",
       " Row(userId='30', sessionId=532, page='Help', level='paid', phase=1, downgraded=0),\n",
       " Row(userId='30', sessionId=532, page='NextSong', level='paid', phase=1, downgraded=0),\n",
       " Row(userId='30', sessionId=532, page='NextSong', level='paid', phase=1, downgraded=0),\n",
       " Row(userId='30', sessionId=532, page='NextSong', level='paid', phase=1, downgraded=0),\n",
       " Row(userId='30', sessionId=532, page='NextSong', level='paid', phase=1, downgraded=0),\n",
       " Row(userId='30', sessionId=532, page='NextSong', level='paid', phase=1, downgraded=0),\n",
       " Row(userId='30', sessionId=532, page='NextSong', level='paid', phase=1, downgraded=0),\n",
       " Row(userId='30', sessionId=532, page='NextSong', level='paid', phase=1, downgraded=0),\n",
       " Row(userId='30', sessionId=532, page='NextSong', level='paid', phase=1, downgraded=0),\n",
       " Row(userId='30', sessionId=532, page='NextSong', level='paid', phase=1, downgraded=0),\n",
       " Row(userId='30', sessionId=532, page='NextSong', level='paid', phase=1, downgraded=0),\n",
       " Row(userId='30', sessionId=532, page='Home', level='paid', phase=1, downgraded=0),\n",
       " Row(userId='30', sessionId=614, page='NextSong', level='free', phase=0, downgraded=0),\n",
       " Row(userId='30', sessionId=614, page='NextSong', level='free', phase=0, downgraded=0),\n",
       " Row(userId='30', sessionId=614, page='NextSong', level='free', phase=0, downgraded=0),\n",
       " Row(userId='30', sessionId=614, page='NextSong', level='free', phase=0, downgraded=0),\n",
       " Row(userId='30', sessionId=614, page='NextSong', level='free', phase=0, downgraded=0),\n",
       " Row(userId='30', sessionId=614, page='Home', level='free', phase=0, downgraded=0),\n",
       " Row(userId='30', sessionId=682, page='Home', level='free', phase=0, downgraded=0),\n",
       " Row(userId='30', sessionId=682, page='Home', level='free', phase=0, downgraded=0),\n",
       " Row(userId='30', sessionId=757, page='Roll Advert', level='free', phase=0, downgraded=0),\n",
       " Row(userId='30', sessionId=757, page='Roll Advert', level='free', phase=0, downgraded=0),\n",
       " Row(userId='30', sessionId=757, page='NextSong', level='free', phase=0, downgraded=0),\n",
       " Row(userId='30', sessionId=757, page='NextSong', level='free', phase=0, downgraded=0),\n",
       " Row(userId='30', sessionId=757, page='NextSong', level='free', phase=0, downgraded=0),\n",
       " Row(userId='30', sessionId=757, page='Thumbs Up', level='free', phase=0, downgraded=0),\n",
       " Row(userId='30', sessionId=757, page='NextSong', level='free', phase=0, downgraded=0),\n",
       " Row(userId='30', sessionId=757, page='NextSong', level='free', phase=0, downgraded=0),\n",
       " Row(userId='30', sessionId=757, page='NextSong', level='free', phase=0, downgraded=0),\n",
       " Row(userId='30', sessionId=757, page='NextSong', level='free', phase=0, downgraded=0),\n",
       " Row(userId='30', sessionId=757, page='NextSong', level='free', phase=0, downgraded=0),\n",
       " Row(userId='30', sessionId=757, page='NextSong', level='free', phase=0, downgraded=0),\n",
       " Row(userId='30', sessionId=757, page='NextSong', level='free', phase=0, downgraded=0),\n",
       " Row(userId='30', sessionId=757, page='NextSong', level='free', phase=0, downgraded=0),\n",
       " Row(userId='30', sessionId=757, page='NextSong', level='free', phase=0, downgraded=0),\n",
       " Row(userId='30', sessionId=757, page='NextSong', level='free', phase=0, downgraded=0),\n",
       " Row(userId='30', sessionId=757, page='NextSong', level='free', phase=0, downgraded=0),\n",
       " Row(userId='30', sessionId=757, page='Upgrade', level='free', phase=0, downgraded=0),\n",
       " Row(userId='30', sessionId=757, page='NextSong', level='free', phase=0, downgraded=0),\n",
       " Row(userId='30', sessionId=757, page='Roll Advert', level='free', phase=0, downgraded=0),\n",
       " Row(userId='30', sessionId=757, page='NextSong', level='free', phase=0, downgraded=0),\n",
       " Row(userId='30', sessionId=757, page='NextSong', level='free', phase=0, downgraded=0),\n",
       " Row(userId='30', sessionId=757, page='NextSong', level='free', phase=0, downgraded=0),\n",
       " Row(userId='30', sessionId=757, page='NextSong', level='free', phase=0, downgraded=0),\n",
       " Row(userId='30', sessionId=757, page='NextSong', level='free', phase=0, downgraded=0),\n",
       " Row(userId='30', sessionId=757, page='NextSong', level='free', phase=0, downgraded=0),\n",
       " Row(userId='30', sessionId=757, page='Home', level='free', phase=0, downgraded=0),\n",
       " Row(userId='30', sessionId=763, page='Logout', level='free', phase=0, downgraded=0),\n",
       " Row(userId='30', sessionId=763, page='NextSong', level='free', phase=0, downgraded=0),\n",
       " Row(userId='30', sessionId=763, page='Upgrade', level='free', phase=0, downgraded=0),\n",
       " Row(userId='30', sessionId=763, page='NextSong', level='free', phase=0, downgraded=0),\n",
       " Row(userId='30', sessionId=763, page='Thumbs Up', level='free', phase=0, downgraded=0),\n",
       " Row(userId='30', sessionId=763, page='NextSong', level='free', phase=0, downgraded=0),\n",
       " Row(userId='30', sessionId=763, page='NextSong', level='free', phase=0, downgraded=0),\n",
       " Row(userId='30', sessionId=763, page='NextSong', level='free', phase=0, downgraded=0),\n",
       " Row(userId='30', sessionId=763, page='NextSong', level='free', phase=0, downgraded=0),\n",
       " Row(userId='30', sessionId=763, page='NextSong', level='free', phase=0, downgraded=0),\n",
       " Row(userId='30', sessionId=763, page='NextSong', level='free', phase=0, downgraded=0),\n",
       " Row(userId='30', sessionId=763, page='NextSong', level='free', phase=0, downgraded=0),\n",
       " Row(userId='30', sessionId=763, page='Thumbs Up', level='free', phase=0, downgraded=0),\n",
       " Row(userId='30', sessionId=763, page='NextSong', level='free', phase=0, downgraded=0),\n",
       " Row(userId='30', sessionId=763, page='NextSong', level='free', phase=0, downgraded=0),\n",
       " Row(userId='30', sessionId=763, page='NextSong', level='free', phase=0, downgraded=0),\n",
       " Row(userId='30', sessionId=763, page='NextSong', level='free', phase=0, downgraded=0),\n",
       " Row(userId='30', sessionId=763, page='NextSong', level='free', phase=0, downgraded=0),\n",
       " Row(userId='30', sessionId=763, page='Roll Advert', level='free', phase=0, downgraded=0),\n",
       " Row(userId='30', sessionId=763, page='NextSong', level='free', phase=0, downgraded=0),\n",
       " Row(userId='30', sessionId=763, page='NextSong', level='free', phase=0, downgraded=0),\n",
       " Row(userId='30', sessionId=763, page='NextSong', level='free', phase=0, downgraded=0),\n",
       " Row(userId='30', sessionId=763, page='NextSong', level='free', phase=0, downgraded=0),\n",
       " Row(userId='30', sessionId=763, page='Thumbs Up', level='free', phase=0, downgraded=0),\n",
       " Row(userId='30', sessionId=763, page='NextSong', level='free', phase=0, downgraded=0),\n",
       " Row(userId='30', sessionId=763, page='NextSong', level='free', phase=0, downgraded=0),\n",
       " Row(userId='30', sessionId=763, page='NextSong', level='free', phase=0, downgraded=0),\n",
       " Row(userId='30', sessionId=763, page='Roll Advert', level='free', phase=0, downgraded=0),\n",
       " Row(userId='30', sessionId=763, page='NextSong', level='free', phase=0, downgraded=0),\n",
       " Row(userId='30', sessionId=763, page='NextSong', level='free', phase=0, downgraded=0),\n",
       " Row(userId='30', sessionId=763, page='NextSong', level='free', phase=0, downgraded=0),\n",
       " Row(userId='30', sessionId=763, page='NextSong', level='free', phase=0, downgraded=0),\n",
       " Row(userId='30', sessionId=816, page='Settings', level='free', phase=0, downgraded=0),\n",
       " Row(userId='30', sessionId=816, page='Add Friend', level='free', phase=0, downgraded=0),\n",
       " Row(userId='30', sessionId=816, page='Home', level='free', phase=0, downgraded=0),\n",
       " Row(userId='30', sessionId=816, page='NextSong', level='free', phase=0, downgraded=0),\n",
       " Row(userId='30', sessionId=816, page='NextSong', level='free', phase=0, downgraded=0),\n",
       " Row(userId='30', sessionId=816, page='Help', level='free', phase=0, downgraded=0),\n",
       " Row(userId='30', sessionId=816, page='NextSong', level='free', phase=0, downgraded=0),\n",
       " Row(userId='30', sessionId=816, page='NextSong', level='free', phase=0, downgraded=0),\n",
       " Row(userId='30', sessionId=816, page='Home', level='free', phase=0, downgraded=0),\n",
       " Row(userId='30', sessionId=816, page='Logout', level='free', phase=0, downgraded=0),\n",
       " Row(userId='30', sessionId=816, page='NextSong', level='free', phase=0, downgraded=0),\n",
       " Row(userId='30', sessionId=816, page='NextSong', level='free', phase=0, downgraded=0),\n",
       " Row(userId='30', sessionId=816, page='NextSong', level='free', phase=0, downgraded=0),\n",
       " Row(userId='30', sessionId=816, page='Thumbs Up', level='free', phase=0, downgraded=0),\n",
       " Row(userId='30', sessionId=816, page='NextSong', level='free', phase=0, downgraded=0),\n",
       " Row(userId='30', sessionId=816, page='NextSong', level='free', phase=0, downgraded=0),\n",
       " Row(userId='30', sessionId=816, page='NextSong', level='free', phase=0, downgraded=0),\n",
       " Row(userId='30', sessionId=816, page='Add to Playlist', level='free', phase=0, downgraded=0),\n",
       " Row(userId='30', sessionId=816, page='NextSong', level='free', phase=0, downgraded=0),\n",
       " Row(userId='30', sessionId=816, page='NextSong', level='free', phase=0, downgraded=0),\n",
       " Row(userId='30', sessionId=816, page='NextSong', level='free', phase=0, downgraded=0),\n",
       " Row(userId='30', sessionId=816, page='NextSong', level='free', phase=0, downgraded=0),\n",
       " Row(userId='30', sessionId=816, page='NextSong', level='free', phase=0, downgraded=0),\n",
       " Row(userId='30', sessionId=816, page='Add to Playlist', level='free', phase=0, downgraded=0),\n",
       " Row(userId='30', sessionId=816, page='NextSong', level='free', phase=0, downgraded=0),\n",
       " Row(userId='30', sessionId=816, page='NextSong', level='free', phase=0, downgraded=0),\n",
       " Row(userId='30', sessionId=816, page='Roll Advert', level='free', phase=0, downgraded=0),\n",
       " Row(userId='30', sessionId=816, page='NextSong', level='free', phase=0, downgraded=0),\n",
       " Row(userId='30', sessionId=816, page='NextSong', level='free', phase=0, downgraded=0),\n",
       " Row(userId='30', sessionId=816, page='NextSong', level='free', phase=0, downgraded=0),\n",
       " Row(userId='30', sessionId=816, page='NextSong', level='free', phase=0, downgraded=0),\n",
       " Row(userId='30', sessionId=816, page='NextSong', level='free', phase=0, downgraded=0),\n",
       " Row(userId='30', sessionId=816, page='NextSong', level='free', phase=0, downgraded=0),\n",
       " Row(userId='30', sessionId=816, page='NextSong', level='free', phase=0, downgraded=0),\n",
       " Row(userId='30', sessionId=816, page='NextSong', level='free', phase=0, downgraded=0),\n",
       " Row(userId='30', sessionId=816, page='NextSong', level='free', phase=0, downgraded=0),\n",
       " Row(userId='30', sessionId=816, page='NextSong', level='free', phase=0, downgraded=0),\n",
       " Row(userId='30', sessionId=816, page='Thumbs Up', level='free', phase=0, downgraded=0),\n",
       " Row(userId='30', sessionId=816, page='NextSong', level='free', phase=0, downgraded=0),\n",
       " Row(userId='30', sessionId=816, page='NextSong', level='free', phase=0, downgraded=0),\n",
       " Row(userId='30', sessionId=816, page='NextSong', level='free', phase=0, downgraded=0),\n",
       " Row(userId='30', sessionId=816, page='Roll Advert', level='free', phase=0, downgraded=0),\n",
       " Row(userId='30', sessionId=816, page='Roll Advert', level='free', phase=0, downgraded=0),\n",
       " Row(userId='30', sessionId=816, page='NextSong', level='free', phase=0, downgraded=0),\n",
       " Row(userId='30', sessionId=816, page='NextSong', level='free', phase=0, downgraded=0),\n",
       " Row(userId='30', sessionId=816, page='NextSong', level='free', phase=0, downgraded=0),\n",
       " Row(userId='30', sessionId=816, page='Home', level='free', phase=0, downgraded=0),\n",
       " Row(userId='30', sessionId=816, page='Logout', level='free', phase=0, downgraded=0),\n",
       " Row(userId='30', sessionId=816, page='Roll Advert', level='free', phase=0, downgraded=0),\n",
       " Row(userId='30', sessionId=816, page='NextSong', level='free', phase=0, downgraded=0),\n",
       " Row(userId='30', sessionId=816, page='NextSong', level='free', phase=0, downgraded=0),\n",
       " Row(userId='30', sessionId=816, page='NextSong', level='free', phase=0, downgraded=0),\n",
       " Row(userId='30', sessionId=816, page='NextSong', level='free', phase=0, downgraded=0),\n",
       " Row(userId='30', sessionId=816, page='Thumbs Up', level='free', phase=0, downgraded=0),\n",
       " Row(userId='30', sessionId=816, page='NextSong', level='free', phase=0, downgraded=0),\n",
       " Row(userId='30', sessionId=816, page='NextSong', level='free', phase=0, downgraded=0),\n",
       " Row(userId='30', sessionId=816, page='NextSong', level='free', phase=0, downgraded=0),\n",
       " Row(userId='30', sessionId=816, page='NextSong', level='free', phase=0, downgraded=0),\n",
       " Row(userId='30', sessionId=816, page='NextSong', level='free', phase=0, downgraded=0),\n",
       " Row(userId='30', sessionId=816, page='NextSong', level='free', phase=0, downgraded=0),\n",
       " Row(userId='30', sessionId=816, page='Home', level='free', phase=0, downgraded=0),\n",
       " Row(userId='30', sessionId=816, page='NextSong', level='free', phase=0, downgraded=0),\n",
       " Row(userId='30', sessionId=816, page='NextSong', level='free', phase=0, downgraded=0),\n",
       " Row(userId='30', sessionId=816, page='Roll Advert', level='free', phase=0, downgraded=0),\n",
       " Row(userId='30', sessionId=816, page='NextSong', level='free', phase=0, downgraded=0),\n",
       " Row(userId='30', sessionId=816, page='NextSong', level='free', phase=0, downgraded=0),\n",
       " Row(userId='30', sessionId=816, page='NextSong', level='free', phase=0, downgraded=0),\n",
       " Row(userId='30', sessionId=816, page='NextSong', level='free', phase=0, downgraded=0),\n",
       " Row(userId='30', sessionId=816, page='NextSong', level='free', phase=0, downgraded=0),\n",
       " Row(userId='30', sessionId=816, page='NextSong', level='free', phase=0, downgraded=0),\n",
       " Row(userId='30', sessionId=816, page='NextSong', level='free', phase=0, downgraded=0),\n",
       " Row(userId='30', sessionId=816, page='NextSong', level='free', phase=0, downgraded=0),\n",
       " Row(userId='30', sessionId=816, page='NextSong', level='free', phase=0, downgraded=0),\n",
       " Row(userId='30', sessionId=816, page='NextSong', level='free', phase=0, downgraded=0),\n",
       " Row(userId='30', sessionId=816, page='Add to Playlist', level='free', phase=0, downgraded=0),\n",
       " Row(userId='30', sessionId=816, page='NextSong', level='free', phase=0, downgraded=0),\n",
       " Row(userId='30', sessionId=816, page='Home', level='free', phase=0, downgraded=0),\n",
       " Row(userId='30', sessionId=892, page='Logout', level='free', phase=0, downgraded=0),\n",
       " Row(userId='30', sessionId=892, page='Home', level='free', phase=0, downgraded=0),\n",
       " Row(userId='30', sessionId=945, page='Home', level='free', phase=0, downgraded=0),\n",
       " Row(userId='30', sessionId=1110, page='NextSong', level='free', phase=0, downgraded=0),\n",
       " Row(userId='30', sessionId=1110, page='Roll Advert', level='free', phase=0, downgraded=0),\n",
       " Row(userId='30', sessionId=1110, page='NextSong', level='free', phase=0, downgraded=0),\n",
       " Row(userId='30', sessionId=1110, page='Thumbs Down', level='free', phase=0, downgraded=0),\n",
       " Row(userId='30', sessionId=1110, page='NextSong', level='free', phase=0, downgraded=0),\n",
       " Row(userId='30', sessionId=1110, page='Roll Advert', level='free', phase=0, downgraded=0),\n",
       " Row(userId='30', sessionId=1110, page='NextSong', level='free', phase=0, downgraded=0),\n",
       " Row(userId='30', sessionId=1110, page='Add to Playlist', level='free', phase=0, downgraded=0),\n",
       " Row(userId='30', sessionId=1110, page='NextSong', level='free', phase=0, downgraded=0),\n",
       " Row(userId='30', sessionId=1110, page='NextSong', level='free', phase=0, downgraded=0),\n",
       " Row(userId='30', sessionId=1110, page='Roll Advert', level='free', phase=0, downgraded=0),\n",
       " Row(userId='30', sessionId=1110, page='NextSong', level='free', phase=0, downgraded=0),\n",
       " Row(userId='30', sessionId=1110, page='NextSong', level='free', phase=0, downgraded=0),\n",
       " Row(userId='30', sessionId=1110, page='NextSong', level='free', phase=0, downgraded=0),\n",
       " Row(userId='30', sessionId=1110, page='NextSong', level='free', phase=0, downgraded=0),\n",
       " Row(userId='30', sessionId=1110, page='NextSong', level='free', phase=0, downgraded=0),\n",
       " Row(userId='30', sessionId=1110, page='Add to Playlist', level='free', phase=0, downgraded=0),\n",
       " Row(userId='30', sessionId=1110, page='NextSong', level='free', phase=0, downgraded=0),\n",
       " Row(userId='30', sessionId=1110, page='NextSong', level='free', phase=0, downgraded=0),\n",
       " Row(userId='30', sessionId=1110, page='NextSong', level='free', phase=0, downgraded=0),\n",
       " Row(userId='30', sessionId=1110, page='NextSong', level='free', phase=0, downgraded=0),\n",
       " Row(userId='30', sessionId=1110, page='NextSong', level='free', phase=0, downgraded=0),\n",
       " Row(userId='30', sessionId=1110, page='NextSong', level='free', phase=0, downgraded=0),\n",
       " Row(userId='30', sessionId=1110, page='NextSong', level='free', phase=0, downgraded=0),\n",
       " Row(userId='30', sessionId=1110, page='NextSong', level='free', phase=0, downgraded=0),\n",
       " Row(userId='30', sessionId=1110, page='NextSong', level='free', phase=0, downgraded=0),\n",
       " Row(userId='30', sessionId=1110, page='NextSong', level='free', phase=0, downgraded=0),\n",
       " Row(userId='30', sessionId=1110, page='NextSong', level='free', phase=0, downgraded=0),\n",
       " Row(userId='30', sessionId=1110, page='NextSong', level='free', phase=0, downgraded=0),\n",
       " Row(userId='30', sessionId=1110, page='NextSong', level='free', phase=0, downgraded=0),\n",
       " Row(userId='30', sessionId=1110, page='NextSong', level='free', phase=0, downgraded=0),\n",
       " Row(userId='30', sessionId=1184, page='NextSong', level='free', phase=0, downgraded=0),\n",
       " Row(userId='30', sessionId=1184, page='NextSong', level='free', phase=0, downgraded=0),\n",
       " Row(userId='30', sessionId=1184, page='Add Friend', level='free', phase=0, downgraded=0),\n",
       " Row(userId='30', sessionId=1184, page='NextSong', level='free', phase=0, downgraded=0),\n",
       " Row(userId='30', sessionId=1184, page='NextSong', level='free', phase=0, downgraded=0),\n",
       " Row(userId='30', sessionId=1184, page='NextSong', level='free', phase=0, downgraded=0),\n",
       " Row(userId='30', sessionId=1184, page='Roll Advert', level='free', phase=0, downgraded=0),\n",
       " Row(userId='30', sessionId=1184, page='NextSong', level='free', phase=0, downgraded=0),\n",
       " Row(userId='30', sessionId=1184, page='Settings', level='free', phase=0, downgraded=0),\n",
       " Row(userId='30', sessionId=1184, page='NextSong', level='free', phase=0, downgraded=0),\n",
       " Row(userId='30', sessionId=1184, page='NextSong', level='free', phase=0, downgraded=0),\n",
       " Row(userId='30', sessionId=1184, page='NextSong', level='free', phase=0, downgraded=0),\n",
       " Row(userId='30', sessionId=1184, page='NextSong', level='free', phase=0, downgraded=0),\n",
       " Row(userId='30', sessionId=1184, page='NextSong', level='free', phase=0, downgraded=0),\n",
       " Row(userId='30', sessionId=1184, page='NextSong', level='free', phase=0, downgraded=0),\n",
       " Row(userId='30', sessionId=1184, page='NextSong', level='free', phase=0, downgraded=0),\n",
       " Row(userId='30', sessionId=1184, page='NextSong', level='free', phase=0, downgraded=0),\n",
       " Row(userId='30', sessionId=1184, page='NextSong', level='free', phase=0, downgraded=0),\n",
       " Row(userId='30', sessionId=1184, page='NextSong', level='free', phase=0, downgraded=0),\n",
       " Row(userId='30', sessionId=1184, page='NextSong', level='free', phase=0, downgraded=0),\n",
       " Row(userId='30', sessionId=1184, page='NextSong', level='free', phase=0, downgraded=0),\n",
       " Row(userId='30', sessionId=1184, page='NextSong', level='free', phase=0, downgraded=0),\n",
       " Row(userId='30', sessionId=1184, page='Thumbs Up', level='free', phase=0, downgraded=0),\n",
       " Row(userId='30', sessionId=1184, page='NextSong', level='free', phase=0, downgraded=0),\n",
       " Row(userId='30', sessionId=1184, page='NextSong', level='free', phase=0, downgraded=0),\n",
       " Row(userId='30', sessionId=1184, page='NextSong', level='free', phase=0, downgraded=0),\n",
       " Row(userId='30', sessionId=1184, page='NextSong', level='free', phase=0, downgraded=0),\n",
       " Row(userId='30', sessionId=1184, page='Home', level='free', phase=0, downgraded=0),\n",
       " Row(userId='30', sessionId=1184, page='NextSong', level='free', phase=0, downgraded=0),\n",
       " Row(userId='30', sessionId=1184, page='NextSong', level='free', phase=0, downgraded=0),\n",
       " Row(userId='30', sessionId=1184, page='Thumbs Up', level='free', phase=0, downgraded=0),\n",
       " Row(userId='30', sessionId=1184, page='NextSong', level='free', phase=0, downgraded=0),\n",
       " Row(userId='30', sessionId=1184, page='NextSong', level='free', phase=0, downgraded=0),\n",
       " Row(userId='30', sessionId=1304, page='NextSong', level='free', phase=0, downgraded=0),\n",
       " Row(userId='30', sessionId=1304, page='NextSong', level='free', phase=0, downgraded=0),\n",
       " Row(userId='30', sessionId=1304, page='NextSong', level='free', phase=0, downgraded=0),\n",
       " Row(userId='30', sessionId=1311, page='NextSong', level='free', phase=0, downgraded=0),\n",
       " Row(userId='30', sessionId=1311, page='NextSong', level='free', phase=0, downgraded=0),\n",
       " Row(userId='30', sessionId=1311, page='NextSong', level='free', phase=0, downgraded=0),\n",
       " Row(userId='30', sessionId=1311, page='NextSong', level='free', phase=0, downgraded=0),\n",
       " Row(userId='30', sessionId=1311, page='NextSong', level='free', phase=0, downgraded=0),\n",
       " Row(userId='30', sessionId=1311, page='NextSong', level='free', phase=0, downgraded=0),\n",
       " Row(userId='30', sessionId=1311, page='NextSong', level='free', phase=0, downgraded=0),\n",
       " Row(userId='30', sessionId=1311, page='NextSong', level='free', phase=0, downgraded=0),\n",
       " Row(userId='30', sessionId=1311, page='Settings', level='free', phase=0, downgraded=0),\n",
       " Row(userId='30', sessionId=1311, page='NextSong', level='free', phase=0, downgraded=0),\n",
       " Row(userId='30', sessionId=1311, page='NextSong', level='free', phase=0, downgraded=0),\n",
       " Row(userId='30', sessionId=1311, page='NextSong', level='free', phase=0, downgraded=0),\n",
       " Row(userId='30', sessionId=1311, page='NextSong', level='free', phase=0, downgraded=0),\n",
       " Row(userId='30', sessionId=1311, page='NextSong', level='free', phase=0, downgraded=0),\n",
       " Row(userId='30', sessionId=1311, page='Roll Advert', level='free', phase=0, downgraded=0),\n",
       " Row(userId='30', sessionId=1311, page='NextSong', level='free', phase=0, downgraded=0),\n",
       " Row(userId='30', sessionId=1311, page='NextSong', level='free', phase=0, downgraded=0),\n",
       " Row(userId='30', sessionId=1311, page='Settings', level='free', phase=0, downgraded=0),\n",
       " Row(userId='30', sessionId=1311, page='NextSong', level='free', phase=0, downgraded=0),\n",
       " Row(userId='30', sessionId=1311, page='NextSong', level='free', phase=0, downgraded=0),\n",
       " Row(userId='30', sessionId=1311, page='NextSong', level='free', phase=0, downgraded=0),\n",
       " Row(userId='30', sessionId=1311, page='NextSong', level='free', phase=0, downgraded=0),\n",
       " Row(userId='30', sessionId=1311, page='NextSong', level='free', phase=0, downgraded=0),\n",
       " Row(userId='30', sessionId=1311, page='Home', level='free', phase=0, downgraded=0),\n",
       " Row(userId='30', sessionId=1311, page='Logout', level='free', phase=0, downgraded=0),\n",
       " Row(userId='30', sessionId=1311, page='NextSong', level='free', phase=0, downgraded=0),\n",
       " Row(userId='30', sessionId=1311, page='NextSong', level='free', phase=0, downgraded=0),\n",
       " Row(userId='30', sessionId=1311, page='NextSong', level='free', phase=0, downgraded=0),\n",
       " Row(userId='30', sessionId=1311, page='NextSong', level='free', phase=0, downgraded=0),\n",
       " Row(userId='30', sessionId=1311, page='NextSong', level='free', phase=0, downgraded=0),\n",
       " Row(userId='30', sessionId=1311, page='Add to Playlist', level='free', phase=0, downgraded=0),\n",
       " Row(userId='30', sessionId=1311, page='NextSong', level='free', phase=0, downgraded=0),\n",
       " Row(userId='30', sessionId=1311, page='NextSong', level='free', phase=0, downgraded=0),\n",
       " Row(userId='30', sessionId=1311, page='NextSong', level='free', phase=0, downgraded=0),\n",
       " Row(userId='30', sessionId=1311, page='Roll Advert', level='free', phase=0, downgraded=0),\n",
       " Row(userId='30', sessionId=1311, page='NextSong', level='free', phase=0, downgraded=0),\n",
       " Row(userId='30', sessionId=1311, page='Home', level='free', phase=0, downgraded=0),\n",
       " Row(userId='30', sessionId=1311, page='NextSong', level='free', phase=0, downgraded=0),\n",
       " Row(userId='30', sessionId=1311, page='NextSong', level='free', phase=0, downgraded=0),\n",
       " Row(userId='30', sessionId=1311, page='NextSong', level='free', phase=0, downgraded=0),\n",
       " Row(userId='30', sessionId=1311, page='NextSong', level='free', phase=0, downgraded=0),\n",
       " Row(userId='30', sessionId=1311, page='NextSong', level='free', phase=0, downgraded=0),\n",
       " Row(userId='30', sessionId=1311, page='Roll Advert', level='free', phase=0, downgraded=0),\n",
       " Row(userId='30', sessionId=1311, page='NextSong', level='free', phase=0, downgraded=0),\n",
       " Row(userId='30', sessionId=1311, page='NextSong', level='free', phase=0, downgraded=0),\n",
       " Row(userId='30', sessionId=1311, page='Roll Advert', level='free', phase=0, downgraded=0),\n",
       " Row(userId='30', sessionId=1311, page='NextSong', level='free', phase=0, downgraded=0),\n",
       " Row(userId='30', sessionId=1311, page='NextSong', level='free', phase=0, downgraded=0),\n",
       " Row(userId='30', sessionId=1311, page='NextSong', level='free', phase=0, downgraded=0),\n",
       " Row(userId='30', sessionId=1311, page='Roll Advert', level='free', phase=0, downgraded=0),\n",
       " Row(userId='30', sessionId=1311, page='NextSong', level='free', phase=0, downgraded=0),\n",
       " Row(userId='30', sessionId=1311, page='NextSong', level='free', phase=0, downgraded=0),\n",
       " Row(userId='30', sessionId=1311, page='NextSong', level='free', phase=0, downgraded=0),\n",
       " Row(userId='30', sessionId=1311, page='NextSong', level='free', phase=0, downgraded=0),\n",
       " Row(userId='30', sessionId=1311, page='NextSong', level='free', phase=0, downgraded=0),\n",
       " Row(userId='30', sessionId=1311, page='NextSong', level='free', phase=0, downgraded=0),\n",
       " Row(userId='30', sessionId=1311, page='NextSong', level='free', phase=0, downgraded=0),\n",
       " Row(userId='30', sessionId=1311, page='Thumbs Down', level='free', phase=0, downgraded=0),\n",
       " Row(userId='30', sessionId=1311, page='NextSong', level='free', phase=0, downgraded=0),\n",
       " Row(userId='30', sessionId=1311, page='NextSong', level='free', phase=0, downgraded=0),\n",
       " Row(userId='30', sessionId=1340, page='Roll Advert', level='free', phase=0, downgraded=0),\n",
       " Row(userId='30', sessionId=1340, page='NextSong', level='free', phase=0, downgraded=0),\n",
       " Row(userId='30', sessionId=1340, page='Roll Advert', level='free', phase=0, downgraded=0),\n",
       " Row(userId='30', sessionId=1340, page='NextSong', level='free', phase=0, downgraded=0),\n",
       " Row(userId='30', sessionId=1340, page='NextSong', level='free', phase=0, downgraded=0),\n",
       " Row(userId='30', sessionId=1340, page='NextSong', level='free', phase=0, downgraded=0),\n",
       " Row(userId='30', sessionId=1340, page='NextSong', level='free', phase=0, downgraded=0),\n",
       " Row(userId='30', sessionId=1340, page='NextSong', level='free', phase=0, downgraded=0),\n",
       " Row(userId='30', sessionId=1340, page='Home', level='free', phase=0, downgraded=0),\n",
       " Row(userId='30', sessionId=1340, page='Logout', level='free', phase=0, downgraded=0),\n",
       " Row(userId='30', sessionId=1340, page='NextSong', level='free', phase=0, downgraded=0),\n",
       " Row(userId='30', sessionId=1340, page='NextSong', level='free', phase=0, downgraded=0),\n",
       " Row(userId='30', sessionId=1340, page='Thumbs Up', level='free', phase=0, downgraded=0),\n",
       " Row(userId='30', sessionId=1340, page='NextSong', level='free', phase=0, downgraded=0),\n",
       " Row(userId='30', sessionId=1340, page='Thumbs Down', level='free', phase=0, downgraded=0),\n",
       " Row(userId='30', sessionId=1340, page='NextSong', level='free', phase=0, downgraded=0),\n",
       " Row(userId='30', sessionId=1340, page='Add to Playlist', level='free', phase=0, downgraded=0),\n",
       " Row(userId='30', sessionId=1340, page='NextSong', level='free', phase=0, downgraded=0),\n",
       " Row(userId='30', sessionId=1340, page='NextSong', level='free', phase=0, downgraded=0),\n",
       " Row(userId='30', sessionId=1340, page='NextSong', level='free', phase=0, downgraded=0),\n",
       " Row(userId='30', sessionId=1340, page='NextSong', level='free', phase=0, downgraded=0),\n",
       " Row(userId='30', sessionId=1340, page='NextSong', level='free', phase=0, downgraded=0),\n",
       " Row(userId='30', sessionId=1340, page='NextSong', level='free', phase=0, downgraded=0),\n",
       " Row(userId='30', sessionId=1340, page='NextSong', level='free', phase=0, downgraded=0),\n",
       " Row(userId='30', sessionId=1340, page='NextSong', level='free', phase=0, downgraded=0),\n",
       " Row(userId='30', sessionId=1340, page='NextSong', level='free', phase=0, downgraded=0),\n",
       " Row(userId='30', sessionId=1340, page='Upgrade', level='free', phase=0, downgraded=0),\n",
       " Row(userId='30', sessionId=1340, page='NextSong', level='free', phase=0, downgraded=0),\n",
       " Row(userId='30', sessionId=1340, page='NextSong', level='free', phase=0, downgraded=0),\n",
       " Row(userId='30', sessionId=1340, page='NextSong', level='free', phase=0, downgraded=0),\n",
       " Row(userId='30', sessionId=1340, page='NextSong', level='free', phase=0, downgraded=0),\n",
       " Row(userId='30', sessionId=1340, page='NextSong', level='free', phase=0, downgraded=0),\n",
       " Row(userId='30', sessionId=1340, page='NextSong', level='free', phase=0, downgraded=0),\n",
       " Row(userId='30', sessionId=1340, page='NextSong', level='free', phase=0, downgraded=0),\n",
       " Row(userId='30', sessionId=1340, page='NextSong', level='free', phase=0, downgraded=0),\n",
       " Row(userId='30', sessionId=1340, page='NextSong', level='free', phase=0, downgraded=0),\n",
       " Row(userId='30', sessionId=1340, page='NextSong', level='free', phase=0, downgraded=0),\n",
       " Row(userId='30', sessionId=1340, page='Roll Advert', level='free', phase=0, downgraded=0),\n",
       " Row(userId='30', sessionId=1340, page='NextSong', level='free', phase=0, downgraded=0),\n",
       " Row(userId='30', sessionId=1340, page='NextSong', level='free', phase=0, downgraded=0),\n",
       " Row(userId='30', sessionId=1340, page='NextSong', level='free', phase=0, downgraded=0),\n",
       " Row(userId='30', sessionId=1340, page='NextSong', level='free', phase=0, downgraded=0),\n",
       " Row(userId='30', sessionId=1340, page='NextSong', level='free', phase=0, downgraded=0),\n",
       " Row(userId='30', sessionId=1340, page='Roll Advert', level='free', phase=0, downgraded=0),\n",
       " Row(userId='30', sessionId=1340, page='Roll Advert', level='free', phase=0, downgraded=0),\n",
       " Row(userId='30', sessionId=1340, page='NextSong', level='free', phase=0, downgraded=0),\n",
       " Row(userId='30', sessionId=1340, page='NextSong', level='free', phase=0, downgraded=0),\n",
       " Row(userId='30', sessionId=1340, page='NextSong', level='free', phase=0, downgraded=0),\n",
       " Row(userId='30', sessionId=1340, page='NextSong', level='free', phase=0, downgraded=0),\n",
       " Row(userId='30', sessionId=1340, page='NextSong', level='free', phase=0, downgraded=0),\n",
       " Row(userId='30', sessionId=1340, page='NextSong', level='free', phase=0, downgraded=0),\n",
       " Row(userId='30', sessionId=1340, page='NextSong', level='free', phase=0, downgraded=0),\n",
       " Row(userId='30', sessionId=1340, page='NextSong', level='free', phase=0, downgraded=0),\n",
       " Row(userId='30', sessionId=1340, page='NextSong', level='free', phase=0, downgraded=0),\n",
       " Row(userId='30', sessionId=1340, page='NextSong', level='free', phase=0, downgraded=0),\n",
       " Row(userId='30', sessionId=1340, page='NextSong', level='free', phase=0, downgraded=0),\n",
       " Row(userId='30', sessionId=1340, page='NextSong', level='free', phase=0, downgraded=0),\n",
       " Row(userId='30', sessionId=1340, page='NextSong', level='free', phase=0, downgraded=0),\n",
       " Row(userId='30', sessionId=1340, page='NextSong', level='free', phase=0, downgraded=0),\n",
       " Row(userId='30', sessionId=1340, page='NextSong', level='free', phase=0, downgraded=0),\n",
       " Row(userId='30', sessionId=1340, page='NextSong', level='free', phase=0, downgraded=0),\n",
       " Row(userId='30', sessionId=1340, page='NextSong', level='free', phase=0, downgraded=0),\n",
       " Row(userId='30', sessionId=1340, page='Thumbs Up', level='free', phase=0, downgraded=0),\n",
       " Row(userId='30', sessionId=1340, page='NextSong', level='free', phase=0, downgraded=0),\n",
       " Row(userId='30', sessionId=1340, page='NextSong', level='free', phase=0, downgraded=0),\n",
       " Row(userId='30', sessionId=1340, page='Home', level='free', phase=0, downgraded=0),\n",
       " Row(userId='30', sessionId=1340, page='NextSong', level='free', phase=0, downgraded=0),\n",
       " Row(userId='30', sessionId=1340, page='NextSong', level='free', phase=0, downgraded=0),\n",
       " Row(userId='30', sessionId=1340, page='NextSong', level='free', phase=0, downgraded=0),\n",
       " Row(userId='30', sessionId=1340, page='NextSong', level='free', phase=0, downgraded=0),\n",
       " Row(userId='30', sessionId=1340, page='Thumbs Up', level='free', phase=0, downgraded=0),\n",
       " Row(userId='30', sessionId=1340, page='NextSong', level='free', phase=0, downgraded=0),\n",
       " Row(userId='30', sessionId=1340, page='NextSong', level='free', phase=0, downgraded=0),\n",
       " Row(userId='30', sessionId=1340, page='NextSong', level='free', phase=0, downgraded=0),\n",
       " Row(userId='30', sessionId=1340, page='About', level='free', phase=0, downgraded=0),\n",
       " Row(userId='30', sessionId=1340, page='Add Friend', level='free', phase=0, downgraded=0),\n",
       " Row(userId='30', sessionId=1340, page='Upgrade', level='free', phase=0, downgraded=0),\n",
       " Row(userId='30', sessionId=1340, page='NextSong', level='free', phase=0, downgraded=0),\n",
       " Row(userId='30', sessionId=1340, page='NextSong', level='free', phase=0, downgraded=0),\n",
       " Row(userId='30', sessionId=1340, page='NextSong', level='free', phase=0, downgraded=0),\n",
       " Row(userId='30', sessionId=1340, page='NextSong', level='free', phase=0, downgraded=0),\n",
       " Row(userId='30', sessionId=1340, page='NextSong', level='free', phase=0, downgraded=0),\n",
       " Row(userId='30', sessionId=1340, page='NextSong', level='free', phase=0, downgraded=0),\n",
       " Row(userId='30', sessionId=1340, page='Roll Advert', level='free', phase=0, downgraded=0),\n",
       " Row(userId='30', sessionId=1340, page='NextSong', level='free', phase=0, downgraded=0),\n",
       " Row(userId='30', sessionId=1340, page='Roll Advert', level='free', phase=0, downgraded=0),\n",
       " Row(userId='30', sessionId=1340, page='NextSong', level='free', phase=0, downgraded=0),\n",
       " Row(userId='30', sessionId=1340, page='NextSong', level='free', phase=0, downgraded=0),\n",
       " Row(userId='30', sessionId=1340, page='NextSong', level='free', phase=0, downgraded=0),\n",
       " Row(userId='30', sessionId=1340, page='NextSong', level='free', phase=0, downgraded=0),\n",
       " Row(userId='30', sessionId=1340, page='NextSong', level='free', phase=0, downgraded=0),\n",
       " Row(userId='30', sessionId=1340, page='Home', level='free', phase=0, downgraded=0),\n",
       " Row(userId='30', sessionId=1340, page='Logout', level='free', phase=0, downgraded=0),\n",
       " Row(userId='30', sessionId=1340, page='NextSong', level='free', phase=0, downgraded=0),\n",
       " Row(userId='30', sessionId=1340, page='NextSong', level='free', phase=0, downgraded=0),\n",
       " Row(userId='30', sessionId=1340, page='NextSong', level='free', phase=0, downgraded=0),\n",
       " Row(userId='30', sessionId=1340, page='NextSong', level='free', phase=0, downgraded=0),\n",
       " Row(userId='30', sessionId=1340, page='NextSong', level='free', phase=0, downgraded=0),\n",
       " Row(userId='30', sessionId=1340, page='Add to Playlist', level='free', phase=0, downgraded=0),\n",
       " Row(userId='30', sessionId=1340, page='Thumbs Up', level='free', phase=0, downgraded=0),\n",
       " Row(userId='30', sessionId=1340, page='NextSong', level='free', phase=0, downgraded=0),\n",
       " Row(userId='30', sessionId=1340, page='NextSong', level='free', phase=0, downgraded=0),\n",
       " Row(userId='30', sessionId=1340, page='NextSong', level='free', phase=0, downgraded=0),\n",
       " Row(userId='30', sessionId=1340, page='NextSong', level='free', phase=0, downgraded=0),\n",
       " Row(userId='30', sessionId=1340, page='Roll Advert', level='free', phase=0, downgraded=0),\n",
       " Row(userId='30', sessionId=1340, page='NextSong', level='free', phase=0, downgraded=0),\n",
       " Row(userId='30', sessionId=1477, page='NextSong', level='free', phase=0, downgraded=0),\n",
       " Row(userId='30', sessionId=1477, page='NextSong', level='free', phase=0, downgraded=0),\n",
       " Row(userId='30', sessionId=1477, page='NextSong', level='free', phase=0, downgraded=0),\n",
       " Row(userId='30', sessionId=1477, page='NextSong', level='free', phase=0, downgraded=0),\n",
       " Row(userId='30', sessionId=1477, page='NextSong', level='free', phase=0, downgraded=0),\n",
       " Row(userId='30', sessionId=1477, page='NextSong', level='free', phase=0, downgraded=0),\n",
       " Row(userId='30', sessionId=1477, page='NextSong', level='free', phase=0, downgraded=0),\n",
       " Row(userId='30', sessionId=1477, page='NextSong', level='free', phase=0, downgraded=0),\n",
       " Row(userId='30', sessionId=1477, page='NextSong', level='free', phase=0, downgraded=0),\n",
       " Row(userId='30', sessionId=1477, page='NextSong', level='free', phase=0, downgraded=0),\n",
       " Row(userId='30', sessionId=1477, page='Add to Playlist', level='free', phase=0, downgraded=0),\n",
       " Row(userId='30', sessionId=1477, page='Thumbs Up', level='free', phase=0, downgraded=0),\n",
       " Row(userId='30', sessionId=1477, page='NextSong', level='free', phase=0, downgraded=0),\n",
       " Row(userId='30', sessionId=1477, page='NextSong', level='free', phase=0, downgraded=0),\n",
       " Row(userId='30', sessionId=1477, page='NextSong', level='free', phase=0, downgraded=0),\n",
       " Row(userId='30', sessionId=1477, page='Home', level='free', phase=0, downgraded=0),\n",
       " Row(userId='30', sessionId=1477, page='NextSong', level='free', phase=0, downgraded=0),\n",
       " Row(userId='30', sessionId=1477, page='NextSong', level='free', phase=0, downgraded=0),\n",
       " Row(userId='30', sessionId=1477, page='NextSong', level='free', phase=0, downgraded=0),\n",
       " Row(userId='30', sessionId=1477, page='NextSong', level='free', phase=0, downgraded=0),\n",
       " Row(userId='30', sessionId=1477, page='NextSong', level='free', phase=0, downgraded=0),\n",
       " Row(userId='30', sessionId=1477, page='NextSong', level='free', phase=0, downgraded=0),\n",
       " Row(userId='30', sessionId=1477, page='NextSong', level='free', phase=0, downgraded=0),\n",
       " Row(userId='30', sessionId=1477, page='NextSong', level='free', phase=0, downgraded=0),\n",
       " Row(userId='30', sessionId=1477, page='NextSong', level='free', phase=0, downgraded=0),\n",
       " Row(userId='30', sessionId=1477, page='Roll Advert', level='free', phase=0, downgraded=0),\n",
       " Row(userId='30', sessionId=1477, page='NextSong', level='free', phase=0, downgraded=0),\n",
       " Row(userId='30', sessionId=1477, page='NextSong', level='free', phase=0, downgraded=0),\n",
       " Row(userId='30', sessionId=1477, page='Add to Playlist', level='free', phase=0, downgraded=0),\n",
       " Row(userId='30', sessionId=1477, page='NextSong', level='free', phase=0, downgraded=0),\n",
       " Row(userId='30', sessionId=1477, page='NextSong', level='free', phase=0, downgraded=0),\n",
       " Row(userId='30', sessionId=1477, page='Add Friend', level='free', phase=0, downgraded=0),\n",
       " Row(userId='30', sessionId=1477, page='NextSong', level='free', phase=0, downgraded=0),\n",
       " Row(userId='30', sessionId=1477, page='NextSong', level='free', phase=0, downgraded=0),\n",
       " Row(userId='30', sessionId=1477, page='Roll Advert', level='free', phase=0, downgraded=0),\n",
       " Row(userId='30', sessionId=1477, page='NextSong', level='free', phase=0, downgraded=0),\n",
       " Row(userId='30', sessionId=1477, page='Thumbs Up', level='free', phase=0, downgraded=0),\n",
       " Row(userId='30', sessionId=1477, page='NextSong', level='free', phase=0, downgraded=0),\n",
       " Row(userId='30', sessionId=1477, page='NextSong', level='free', phase=0, downgraded=0),\n",
       " Row(userId='30', sessionId=1477, page='NextSong', level='free', phase=0, downgraded=0),\n",
       " Row(userId='30', sessionId=1477, page='NextSong', level='free', phase=0, downgraded=0),\n",
       " Row(userId='30', sessionId=1477, page='NextSong', level='free', phase=0, downgraded=0),\n",
       " Row(userId='30', sessionId=1477, page='Home', level='free', phase=0, downgraded=0),\n",
       " Row(userId='30', sessionId=1477, page='Help', level='free', phase=0, downgraded=0),\n",
       " Row(userId='30', sessionId=1477, page='NextSong', level='free', phase=0, downgraded=0),\n",
       " Row(userId='30', sessionId=1477, page='NextSong', level='free', phase=0, downgraded=0),\n",
       " Row(userId='30', sessionId=1477, page='Roll Advert', level='free', phase=0, downgraded=0),\n",
       " Row(userId='30', sessionId=1477, page='NextSong', level='free', phase=0, downgraded=0),\n",
       " Row(userId='30', sessionId=1477, page='Thumbs Up', level='free', phase=0, downgraded=0),\n",
       " Row(userId='30', sessionId=1477, page='NextSong', level='free', phase=0, downgraded=0),\n",
       " Row(userId='30', sessionId=1477, page='Upgrade', level='free', phase=0, downgraded=0),\n",
       " Row(userId='30', sessionId=1477, page='Upgrade', level='free', phase=0, downgraded=0),\n",
       " Row(userId='30', sessionId=1477, page='NextSong', level='free', phase=0, downgraded=0),\n",
       " Row(userId='30', sessionId=1477, page='NextSong', level='free', phase=0, downgraded=0),\n",
       " Row(userId='30', sessionId=1477, page='NextSong', level='free', phase=0, downgraded=0),\n",
       " Row(userId='30', sessionId=1477, page='NextSong', level='free', phase=0, downgraded=0),\n",
       " Row(userId='30', sessionId=1477, page='NextSong', level='free', phase=0, downgraded=0),\n",
       " Row(userId='30', sessionId=1477, page='NextSong', level='free', phase=0, downgraded=0),\n",
       " Row(userId='30', sessionId=1477, page='NextSong', level='free', phase=0, downgraded=0),\n",
       " Row(userId='30', sessionId=1477, page='NextSong', level='free', phase=0, downgraded=0),\n",
       " Row(userId='30', sessionId=1477, page='Settings', level='free', phase=0, downgraded=0),\n",
       " Row(userId='30', sessionId=1477, page='NextSong', level='free', phase=0, downgraded=0),\n",
       " Row(userId='30', sessionId=1477, page='Home', level='free', phase=0, downgraded=0),\n",
       " Row(userId='30', sessionId=1477, page='Logout', level='free', phase=0, downgraded=0),\n",
       " Row(userId='30', sessionId=1477, page='NextSong', level='free', phase=0, downgraded=0),\n",
       " Row(userId='30', sessionId=1477, page='Roll Advert', level='free', phase=0, downgraded=0),\n",
       " Row(userId='30', sessionId=1477, page='NextSong', level='free', phase=0, downgraded=0),\n",
       " Row(userId='30', sessionId=1477, page='NextSong', level='free', phase=0, downgraded=0),\n",
       " Row(userId='30', sessionId=1477, page='NextSong', level='free', phase=0, downgraded=0),\n",
       " Row(userId='30', sessionId=1477, page='NextSong', level='free', phase=0, downgraded=0),\n",
       " Row(userId='30', sessionId=1477, page='NextSong', level='free', phase=0, downgraded=0),\n",
       " Row(userId='30', sessionId=1477, page='NextSong', level='free', phase=0, downgraded=0),\n",
       " Row(userId='30', sessionId=1477, page='NextSong', level='free', phase=0, downgraded=0),\n",
       " Row(userId='30', sessionId=1477, page='NextSong', level='free', phase=0, downgraded=0),\n",
       " Row(userId='30', sessionId=1477, page='NextSong', level='free', phase=0, downgraded=0),\n",
       " Row(userId='30', sessionId=1477, page='NextSong', level='free', phase=0, downgraded=0),\n",
       " Row(userId='30', sessionId=1477, page='NextSong', level='free', phase=0, downgraded=0),\n",
       " Row(userId='30', sessionId=1477, page='NextSong', level='free', phase=0, downgraded=0),\n",
       " Row(userId='30', sessionId=1477, page='NextSong', level='free', phase=0, downgraded=0),\n",
       " Row(userId='30', sessionId=1496, page='Roll Advert', level='free', phase=0, downgraded=0),\n",
       " Row(userId='30', sessionId=1496, page='NextSong', level='free', phase=0, downgraded=0),\n",
       " Row(userId='30', sessionId=1496, page='Upgrade', level='free', phase=0, downgraded=0),\n",
       " Row(userId='30', sessionId=1496, page='NextSong', level='free', phase=0, downgraded=0),\n",
       " Row(userId='30', sessionId=1496, page='NextSong', level='free', phase=0, downgraded=0),\n",
       " Row(userId='30', sessionId=1496, page='NextSong', level='free', phase=0, downgraded=0),\n",
       " Row(userId='30', sessionId=1496, page='NextSong', level='free', phase=0, downgraded=0),\n",
       " Row(userId='30', sessionId=1496, page='NextSong', level='free', phase=0, downgraded=0),\n",
       " Row(userId='30', sessionId=1496, page='NextSong', level='free', phase=0, downgraded=0),\n",
       " Row(userId='30', sessionId=1496, page='NextSong', level='free', phase=0, downgraded=0),\n",
       " Row(userId='30', sessionId=1496, page='NextSong', level='free', phase=0, downgraded=0),\n",
       " Row(userId='30', sessionId=1496, page='NextSong', level='free', phase=0, downgraded=0),\n",
       " Row(userId='30', sessionId=1496, page='NextSong', level='free', phase=0, downgraded=0),\n",
       " Row(userId='30', sessionId=1496, page='NextSong', level='free', phase=0, downgraded=0),\n",
       " Row(userId='30', sessionId=1496, page='Home', level='free', phase=0, downgraded=0),\n",
       " Row(userId='30', sessionId=1496, page='NextSong', level='free', phase=0, downgraded=0),\n",
       " Row(userId='30', sessionId=1496, page='NextSong', level='free', phase=0, downgraded=0),\n",
       " Row(userId='30', sessionId=1496, page='NextSong', level='free', phase=0, downgraded=0),\n",
       " Row(userId='30', sessionId=1496, page='NextSong', level='free', phase=0, downgraded=0),\n",
       " Row(userId='30', sessionId=1496, page='NextSong', level='free', phase=0, downgraded=0),\n",
       " Row(userId='30', sessionId=1496, page='Add to Playlist', level='free', phase=0, downgraded=0),\n",
       " Row(userId='30', sessionId=1496, page='NextSong', level='free', phase=0, downgraded=0),\n",
       " Row(userId='30', sessionId=1496, page='NextSong', level='free', phase=0, downgraded=0),\n",
       " Row(userId='30', sessionId=1496, page='NextSong', level='free', phase=0, downgraded=0),\n",
       " Row(userId='30', sessionId=1496, page='NextSong', level='free', phase=0, downgraded=0),\n",
       " Row(userId='30', sessionId=1496, page='Thumbs Up', level='free', phase=0, downgraded=0),\n",
       " Row(userId='30', sessionId=1496, page='NextSong', level='free', phase=0, downgraded=0),\n",
       " Row(userId='30', sessionId=1496, page='NextSong', level='free', phase=0, downgraded=0),\n",
       " Row(userId='30', sessionId=1496, page='NextSong', level='free', phase=0, downgraded=0),\n",
       " Row(userId='30', sessionId=1496, page='NextSong', level='free', phase=0, downgraded=0),\n",
       " Row(userId='30', sessionId=1496, page='NextSong', level='free', phase=0, downgraded=0),\n",
       " Row(userId='30', sessionId=1554, page='NextSong', level='free', phase=0, downgraded=0),\n",
       " Row(userId='30', sessionId=1554, page='Roll Advert', level='free', phase=0, downgraded=0),\n",
       " Row(userId='30', sessionId=1554, page='NextSong', level='free', phase=0, downgraded=0),\n",
       " Row(userId='30', sessionId=1554, page='NextSong', level='free', phase=0, downgraded=0),\n",
       " Row(userId='30', sessionId=1554, page='NextSong', level='free', phase=0, downgraded=0),\n",
       " Row(userId='30', sessionId=1554, page='Roll Advert', level='free', phase=0, downgraded=0),\n",
       " Row(userId='30', sessionId=1554, page='NextSong', level='free', phase=0, downgraded=0),\n",
       " Row(userId='30', sessionId=1554, page='NextSong', level='free', phase=0, downgraded=0),\n",
       " Row(userId='30', sessionId=1554, page='NextSong', level='free', phase=0, downgraded=0),\n",
       " Row(userId='30', sessionId=1554, page='NextSong', level='free', phase=0, downgraded=0),\n",
       " Row(userId='30', sessionId=1554, page='NextSong', level='free', phase=0, downgraded=0),\n",
       " Row(userId='30', sessionId=1554, page='Upgrade', level='free', phase=0, downgraded=0),\n",
       " Row(userId='30', sessionId=1554, page='NextSong', level='free', phase=0, downgraded=0),\n",
       " Row(userId='30', sessionId=1554, page='Thumbs Up', level='free', phase=0, downgraded=0),\n",
       " Row(userId='30', sessionId=1554, page='NextSong', level='free', phase=0, downgraded=0),\n",
       " Row(userId='30', sessionId=1554, page='Home', level='free', phase=0, downgraded=0),\n",
       " Row(userId='30', sessionId=1554, page='Logout', level='free', phase=0, downgraded=0),\n",
       " Row(userId='30', sessionId=1554, page='NextSong', level='free', phase=0, downgraded=0),\n",
       " Row(userId='30', sessionId=1554, page='About', level='free', phase=0, downgraded=0),\n",
       " Row(userId='30', sessionId=1554, page='NextSong', level='free', phase=0, downgraded=0),\n",
       " Row(userId='30', sessionId=1554, page='NextSong', level='free', phase=0, downgraded=0),\n",
       " Row(userId='30', sessionId=1554, page='NextSong', level='free', phase=0, downgraded=0),\n",
       " Row(userId='30', sessionId=1554, page='NextSong', level='free', phase=0, downgraded=0),\n",
       " Row(userId='30', sessionId=1554, page='NextSong', level='free', phase=0, downgraded=0),\n",
       " Row(userId='30', sessionId=1554, page='NextSong', level='free', phase=0, downgraded=0),\n",
       " Row(userId='30', sessionId=1554, page='NextSong', level='free', phase=0, downgraded=0),\n",
       " Row(userId='30', sessionId=1554, page='NextSong', level='free', phase=0, downgraded=0),\n",
       " Row(userId='30', sessionId=1554, page='NextSong', level='free', phase=0, downgraded=0),\n",
       " Row(userId='30', sessionId=1554, page='NextSong', level='free', phase=0, downgraded=0),\n",
       " Row(userId='30', sessionId=1554, page='NextSong', level='free', phase=0, downgraded=0),\n",
       " Row(userId='30', sessionId=1554, page='NextSong', level='free', phase=0, downgraded=0),\n",
       " Row(userId='30', sessionId=1554, page='NextSong', level='free', phase=0, downgraded=0),\n",
       " Row(userId='30', sessionId=1554, page='NextSong', level='free', phase=0, downgraded=0),\n",
       " Row(userId='30', sessionId=1554, page='NextSong', level='free', phase=0, downgraded=0),\n",
       " Row(userId='30', sessionId=1554, page='NextSong', level='free', phase=0, downgraded=0),\n",
       " Row(userId='30', sessionId=1554, page='NextSong', level='free', phase=0, downgraded=0),\n",
       " Row(userId='30', sessionId=1554, page='NextSong', level='free', phase=0, downgraded=0),\n",
       " Row(userId='30', sessionId=1554, page='NextSong', level='free', phase=0, downgraded=0),\n",
       " Row(userId='30', sessionId=1554, page='NextSong', level='free', phase=0, downgraded=0),\n",
       " Row(userId='30', sessionId=1554, page='Thumbs Up', level='free', phase=0, downgraded=0),\n",
       " Row(userId='30', sessionId=1554, page='NextSong', level='free', phase=0, downgraded=0),\n",
       " Row(userId='30', sessionId=1554, page='NextSong', level='free', phase=0, downgraded=0),\n",
       " Row(userId='30', sessionId=1554, page='NextSong', level='free', phase=0, downgraded=0),\n",
       " Row(userId='30', sessionId=1554, page='NextSong', level='free', phase=0, downgraded=0),\n",
       " Row(userId='30', sessionId=1554, page='NextSong', level='free', phase=0, downgraded=0),\n",
       " Row(userId='30', sessionId=1554, page='Roll Advert', level='free', phase=0, downgraded=0),\n",
       " Row(userId='30', sessionId=1554, page='NextSong', level='free', phase=0, downgraded=0),\n",
       " Row(userId='30', sessionId=1554, page='NextSong', level='free', phase=0, downgraded=0),\n",
       " Row(userId='30', sessionId=1554, page='NextSong', level='free', phase=0, downgraded=0),\n",
       " Row(userId='30', sessionId=1554, page='NextSong', level='free', phase=0, downgraded=0),\n",
       " Row(userId='30', sessionId=1554, page='Add to Playlist', level='free', phase=0, downgraded=0),\n",
       " Row(userId='30', sessionId=1554, page='NextSong', level='free', phase=0, downgraded=0),\n",
       " Row(userId='30', sessionId=1554, page='NextSong', level='free', phase=0, downgraded=0),\n",
       " Row(userId='30', sessionId=1554, page='NextSong', level='free', phase=0, downgraded=0),\n",
       " Row(userId='30', sessionId=1554, page='NextSong', level='free', phase=0, downgraded=0),\n",
       " Row(userId='30', sessionId=1554, page='NextSong', level='free', phase=0, downgraded=0),\n",
       " Row(userId='30', sessionId=1554, page='Thumbs Down', level='free', phase=0, downgraded=0),\n",
       " Row(userId='30', sessionId=1554, page='NextSong', level='free', phase=0, downgraded=0),\n",
       " Row(userId='30', sessionId=1554, page='NextSong', level='free', phase=0, downgraded=0),\n",
       " Row(userId='30', sessionId=1554, page='NextSong', level='free', phase=0, downgraded=0),\n",
       " Row(userId='30', sessionId=1554, page='NextSong', level='free', phase=0, downgraded=0),\n",
       " Row(userId='30', sessionId=1554, page='NextSong', level='free', phase=0, downgraded=0),\n",
       " Row(userId='30', sessionId=1554, page='NextSong', level='free', phase=0, downgraded=0),\n",
       " Row(userId='30', sessionId=1554, page='Home', level='free', phase=0, downgraded=0),\n",
       " Row(userId='30', sessionId=1554, page='Logout', level='free', phase=0, downgraded=0),\n",
       " Row(userId='30', sessionId=1554, page='NextSong', level='free', phase=0, downgraded=0),\n",
       " Row(userId='30', sessionId=1554, page='NextSong', level='free', phase=0, downgraded=0),\n",
       " Row(userId='30', sessionId=1554, page='Roll Advert', level='free', phase=0, downgraded=0),\n",
       " Row(userId='30', sessionId=1554, page='NextSong', level='free', phase=0, downgraded=0),\n",
       " Row(userId='30', sessionId=1554, page='NextSong', level='free', phase=0, downgraded=0),\n",
       " Row(userId='30', sessionId=1554, page='Roll Advert', level='free', phase=0, downgraded=0),\n",
       " Row(userId='30', sessionId=1554, page='NextSong', level='free', phase=0, downgraded=0),\n",
       " Row(userId='30', sessionId=1554, page='Upgrade', level='free', phase=0, downgraded=0),\n",
       " Row(userId='30', sessionId=1554, page='NextSong', level='free', phase=0, downgraded=0),\n",
       " Row(userId='30', sessionId=1554, page='NextSong', level='free', phase=0, downgraded=0),\n",
       " Row(userId='30', sessionId=1554, page='Add Friend', level='free', phase=0, downgraded=0),\n",
       " Row(userId='30', sessionId=1554, page='NextSong', level='free', phase=0, downgraded=0),\n",
       " Row(userId='30', sessionId=1554, page='NextSong', level='free', phase=0, downgraded=0),\n",
       " Row(userId='30', sessionId=1554, page='NextSong', level='free', phase=0, downgraded=0),\n",
       " Row(userId='30', sessionId=1554, page='NextSong', level='free', phase=0, downgraded=0),\n",
       " Row(userId='30', sessionId=1554, page='NextSong', level='free', phase=0, downgraded=0),\n",
       " Row(userId='30', sessionId=1554, page='NextSong', level='free', phase=0, downgraded=0),\n",
       " Row(userId='30', sessionId=1554, page='Home', level='free', phase=0, downgraded=0),\n",
       " Row(userId='30', sessionId=1554, page='NextSong', level='free', phase=0, downgraded=0),\n",
       " Row(userId='30', sessionId=1554, page='NextSong', level='free', phase=0, downgraded=0),\n",
       " Row(userId='30', sessionId=1554, page='NextSong', level='free', phase=0, downgraded=0),\n",
       " Row(userId='30', sessionId=1554, page='Add to Playlist', level='free', phase=0, downgraded=0),\n",
       " Row(userId='30', sessionId=1554, page='NextSong', level='free', phase=0, downgraded=0),\n",
       " Row(userId='30', sessionId=1554, page='Home', level='free', phase=0, downgraded=0),\n",
       " Row(userId='30', sessionId=1554, page='NextSong', level='free', phase=0, downgraded=0),\n",
       " Row(userId='30', sessionId=1554, page='NextSong', level='free', phase=0, downgraded=0),\n",
       " Row(userId='30', sessionId=1554, page='Add Friend', level='free', phase=0, downgraded=0),\n",
       " Row(userId='30', sessionId=1554, page='Add Friend', level='free', phase=0, downgraded=0),\n",
       " Row(userId='30', sessionId=1554, page='Home', level='free', phase=0, downgraded=0),\n",
       " Row(userId='30', sessionId=1554, page='NextSong', level='free', phase=0, downgraded=0),\n",
       " Row(userId='30', sessionId=1554, page='NextSong', level='free', phase=0, downgraded=0),\n",
       " Row(userId='30', sessionId=1554, page='NextSong', level='free', phase=0, downgraded=0),\n",
       " Row(userId='30', sessionId=1574, page='NextSong', level='free', phase=0, downgraded=0),\n",
       " Row(userId='30', sessionId=1574, page='Thumbs Up', level='free', phase=0, downgraded=0),\n",
       " Row(userId='30', sessionId=1574, page='NextSong', level='free', phase=0, downgraded=0),\n",
       " Row(userId='30', sessionId=1574, page='NextSong', level='free', phase=0, downgraded=0),\n",
       " Row(userId='30', sessionId=1574, page='NextSong', level='free', phase=0, downgraded=0),\n",
       " Row(userId='30', sessionId=1574, page='Thumbs Up', level='free', phase=0, downgraded=0),\n",
       " Row(userId='30', sessionId=1574, page='NextSong', level='free', phase=0, downgraded=0),\n",
       " Row(userId='30', sessionId=1574, page='Add Friend', level='free', phase=0, downgraded=0),\n",
       " Row(userId='30', sessionId=1574, page='Home', level='free', phase=0, downgraded=0),\n",
       " Row(userId='30', sessionId=1574, page='NextSong', level='free', phase=0, downgraded=0),\n",
       " Row(userId='30', sessionId=1574, page='NextSong', level='free', phase=0, downgraded=0),\n",
       " Row(userId='30', sessionId=1574, page='NextSong', level='free', phase=0, downgraded=0),\n",
       " Row(userId='30', sessionId=1574, page='Add to Playlist', level='free', phase=0, downgraded=0),\n",
       " Row(userId='30', sessionId=1574, page='NextSong', level='free', phase=0, downgraded=0),\n",
       " Row(userId='30', sessionId=1574, page='NextSong', level='free', phase=0, downgraded=0),\n",
       " Row(userId='30', sessionId=1574, page='NextSong', level='free', phase=0, downgraded=0),\n",
       " Row(userId='30', sessionId=1574, page='NextSong', level='free', phase=0, downgraded=0),\n",
       " Row(userId='30', sessionId=1574, page='NextSong', level='free', phase=0, downgraded=0),\n",
       " Row(userId='30', sessionId=1574, page='NextSong', level='free', phase=0, downgraded=0),\n",
       " Row(userId='30', sessionId=1574, page='NextSong', level='free', phase=0, downgraded=0),\n",
       " Row(userId='30', sessionId=1574, page='NextSong', level='free', phase=0, downgraded=0),\n",
       " Row(userId='30', sessionId=1574, page='NextSong', level='free', phase=0, downgraded=0),\n",
       " Row(userId='30', sessionId=1574, page='NextSong', level='free', phase=0, downgraded=0),\n",
       " Row(userId='30', sessionId=1574, page='NextSong', level='free', phase=0, downgraded=0),\n",
       " Row(userId='30', sessionId=1574, page='NextSong', level='free', phase=0, downgraded=0),\n",
       " Row(userId='30', sessionId=1574, page='NextSong', level='free', phase=0, downgraded=0),\n",
       " Row(userId='30', sessionId=1574, page='Roll Advert', level='free', phase=0, downgraded=0),\n",
       " Row(userId='30', sessionId=1574, page='NextSong', level='free', phase=0, downgraded=0),\n",
       " Row(userId='30', sessionId=1574, page='NextSong', level='free', phase=0, downgraded=0),\n",
       " Row(userId='30', sessionId=1574, page='Home', level='free', phase=0, downgraded=0),\n",
       " Row(userId='30', sessionId=1574, page='NextSong', level='free', phase=0, downgraded=0),\n",
       " Row(userId='30', sessionId=1574, page='NextSong', level='free', phase=0, downgraded=0),\n",
       " Row(userId='30', sessionId=1574, page='NextSong', level='free', phase=0, downgraded=0),\n",
       " Row(userId='30', sessionId=1574, page='Roll Advert', level='free', phase=0, downgraded=0),\n",
       " Row(userId='30', sessionId=1574, page='NextSong', level='free', phase=0, downgraded=0),\n",
       " Row(userId='30', sessionId=1607, page='Roll Advert', level='free', phase=0, downgraded=0),\n",
       " Row(userId='30', sessionId=1607, page='NextSong', level='free', phase=0, downgraded=0),\n",
       " Row(userId='30', sessionId=1607, page='Roll Advert', level='free', phase=0, downgraded=0),\n",
       " Row(userId='30', sessionId=1607, page='NextSong', level='free', phase=0, downgraded=0),\n",
       " Row(userId='30', sessionId=1607, page='NextSong', level='free', phase=0, downgraded=0),\n",
       " Row(userId='30', sessionId=1607, page='NextSong', level='free', phase=0, downgraded=0),\n",
       " Row(userId='30', sessionId=1607, page='NextSong', level='free', phase=0, downgraded=0),\n",
       " Row(userId='30', sessionId=1607, page='NextSong', level='free', phase=0, downgraded=0),\n",
       " Row(userId='30', sessionId=1607, page='NextSong', level='free', phase=0, downgraded=0),\n",
       " Row(userId='30', sessionId=1607, page='Home', level='free', phase=0, downgraded=0),\n",
       " Row(userId='30', sessionId=1607, page='Logout', level='free', phase=0, downgraded=0),\n",
       " Row(userId='30', sessionId=1607, page='NextSong', level='free', phase=0, downgraded=0),\n",
       " Row(userId='30', sessionId=1607, page='Upgrade', level='free', phase=0, downgraded=0),\n",
       " Row(userId='30', sessionId=1607, page='NextSong', level='free', phase=0, downgraded=0),\n",
       " Row(userId='30', sessionId=1607, page='NextSong', level='free', phase=0, downgraded=0),\n",
       " Row(userId='30', sessionId=1607, page='Roll Advert', level='free', phase=0, downgraded=0),\n",
       " Row(userId='30', sessionId=1607, page='Roll Advert', level='free', phase=0, downgraded=0),\n",
       " Row(userId='30', sessionId=1607, page='NextSong', level='free', phase=0, downgraded=0),\n",
       " Row(userId='30', sessionId=1607, page='NextSong', level='free', phase=0, downgraded=0),\n",
       " Row(userId='30', sessionId=1607, page='NextSong', level='free', phase=0, downgraded=0),\n",
       " Row(userId='30', sessionId=1607, page='NextSong', level='free', phase=0, downgraded=0),\n",
       " Row(userId='30', sessionId=1607, page='Add to Playlist', level='free', phase=0, downgraded=0),\n",
       " Row(userId='30', sessionId=1607, page='NextSong', level='free', phase=0, downgraded=0),\n",
       " Row(userId='30', sessionId=1607, page='NextSong', level='free', phase=0, downgraded=0),\n",
       " Row(userId='30', sessionId=1607, page='NextSong', level='free', phase=0, downgraded=0),\n",
       " Row(userId='30', sessionId=1607, page='NextSong', level='free', phase=0, downgraded=0),\n",
       " Row(userId='30', sessionId=1607, page='NextSong', level='free', phase=0, downgraded=0),\n",
       " Row(userId='30', sessionId=1607, page='NextSong', level='free', phase=0, downgraded=0),\n",
       " Row(userId='30', sessionId=1628, page='NextSong', level='free', phase=0, downgraded=0),\n",
       " Row(userId='30', sessionId=1628, page='Thumbs Up', level='free', phase=0, downgraded=0),\n",
       " Row(userId='30', sessionId=1628, page='NextSong', level='free', phase=0, downgraded=0),\n",
       " Row(userId='30', sessionId=1628, page='NextSong', level='free', phase=0, downgraded=0),\n",
       " Row(userId='30', sessionId=1628, page='NextSong', level='free', phase=0, downgraded=0),\n",
       " Row(userId='30', sessionId=1628, page='NextSong', level='free', phase=0, downgraded=0),\n",
       " Row(userId='30', sessionId=1628, page='Thumbs Down', level='free', phase=0, downgraded=0),\n",
       " Row(userId='30', sessionId=1628, page='NextSong', level='free', phase=0, downgraded=0),\n",
       " Row(userId='30', sessionId=1632, page='Home', level='free', phase=0, downgraded=0),\n",
       " Row(userId='30', sessionId=1632, page='NextSong', level='free', phase=0, downgraded=0),\n",
       " Row(userId='30', sessionId=1632, page='Roll Advert', level='free', phase=0, downgraded=0),\n",
       " Row(userId='30', sessionId=1632, page='NextSong', level='free', phase=0, downgraded=0),\n",
       " Row(userId='30', sessionId=1632, page='NextSong', level='free', phase=0, downgraded=0),\n",
       " Row(userId='30', sessionId=1632, page='NextSong', level='free', phase=0, downgraded=0),\n",
       " Row(userId='30', sessionId=1632, page='NextSong', level='free', phase=0, downgraded=0),\n",
       " Row(userId='30', sessionId=1632, page='NextSong', level='free', phase=0, downgraded=0),\n",
       " ...]"
      ]
     },
     "execution_count": 19,
     "metadata": {},
     "output_type": "execute_result"
    }
   ],
   "source": [
    "# Example Results of windowing\n",
    "user_log_valid.select([\"userId\", \"sessionId\", \"page\", \"level\", \"phase\", \"downgraded\"]).where(user_log.userId == \"30\").sort(\"sessionId\").collect()"
   ]
  },
  {
   "cell_type": "markdown",
   "metadata": {},
   "source": [
    "Perform a few more searches to estimate how many positive and negative results we will have in our data set when trying to model churn."
   ]
  },
  {
   "cell_type": "code",
   "execution_count": 20,
   "metadata": {},
   "outputs": [
    {
     "data": {
      "text/plain": [
       "115"
      ]
     },
     "execution_count": 20,
     "metadata": {},
     "output_type": "execute_result"
    }
   ],
   "source": [
    "# Find how many accounts were downgraded in the data set\n",
    "user_log_valid.select(\"downgraded\").where(user_log_valid.downgraded==1).count()"
   ]
  },
  {
   "cell_type": "code",
   "execution_count": 21,
   "metadata": {},
   "outputs": [
    {
     "data": {
      "text/plain": [
       "339"
      ]
     },
     "execution_count": 21,
     "metadata": {},
     "output_type": "execute_result"
    }
   ],
   "source": [
    "# Find total number of user/phase combinations\n",
    "user_log_valid.select(\"userId\",\"phase\").dropDuplicates().count()"
   ]
  },
  {
   "cell_type": "markdown",
   "metadata": {},
   "source": [
    "Ultimately, the number of useres will reflect the user-phase combinations, as if a user downgrades their account and then later deletes it, we want to consider both events as examples of churn."
   ]
  },
  {
   "cell_type": "code",
   "execution_count": 22,
   "metadata": {},
   "outputs": [
    {
     "data": {
      "text/plain": [
       "2312"
      ]
     },
     "execution_count": 22,
     "metadata": {},
     "output_type": "execute_result"
    }
   ],
   "source": [
    "# Find total number of sessions\n",
    "user_log_valid.select(\"sessionId\").dropDuplicates().count()"
   ]
  },
  {
   "cell_type": "markdown",
   "metadata": {},
   "source": [
    "# Feature Engineering\n"
   ]
  },
  {
   "cell_type": "markdown",
   "metadata": {},
   "source": [
    "We need to create features from our data set to allow for modelling later.  various transoformations are used to create features that might be useful for churn prediction."
   ]
  },
  {
   "cell_type": "markdown",
   "metadata": {},
   "source": [
    "First, create features for gender and subscription level by flagging the appropriate values and adding new columns."
   ]
  },
  {
   "cell_type": "code",
   "execution_count": 23,
   "metadata": {},
   "outputs": [],
   "source": [
    "# Add feature for Gender\n",
    "# Function to flag gender\n",
    "flag_male = udf(lambda x: 1 if x == \"M\" else 0, IntegerType())\n",
    "flag_female = udf(lambda x: 1 if x == \"F\" else 0, IntegerType())\n",
    "\n",
    "# Add Gender feature to user log\n",
    "user_log_valid = user_log_valid.withColumn(\"Male\", flag_male(\"gender\"))\n",
    "user_log_valid = user_log_valid.withColumn(\"Female\", flag_female(\"gender\"))"
   ]
  },
  {
   "cell_type": "code",
   "execution_count": 24,
   "metadata": {},
   "outputs": [],
   "source": [
    "# Add feature for subscription level\n",
    "# Function to free or paid levels\n",
    "flag_paid = udf(lambda x: 1 if x == \"paid\" else 0, IntegerType())\n",
    "flag_free = udf(lambda x: 1 if x == \"free\" else 0, IntegerType())\n",
    "\n",
    "# Add Gender feature to user log\n",
    "user_log_valid = user_log_valid.withColumn(\"Paid\", flag_paid(\"level\"))\n",
    "user_log_valid = user_log_valid.withColumn(\"Free\", flag_free(\"level\"))"
   ]
  },
  {
   "cell_type": "markdown",
   "metadata": {},
   "source": [
    "Next, I want to look at the frequency of different page events as those might be useful.  If a user spend a lot of time on certain pages, that might suggest they are having a good or bad time using the service."
   ]
  },
  {
   "cell_type": "markdown",
   "metadata": {},
   "source": [
    "Start by flagging key page actions and adding relevant columns."
   ]
  },
  {
   "cell_type": "code",
   "execution_count": 26,
   "metadata": {},
   "outputs": [],
   "source": [
    "# Make functions for flagging key page actions\n",
    "flag_thumbsdown_event = udf(lambda x: 1 if x == \"Thumbs Down\" else 0, IntegerType())\n",
    "flag_thumbsup_event = udf(lambda x: 1 if x == \"Thumbs Up\" else 0, IntegerType())\n",
    "flag_rolladvert_event = udf(lambda x: 1 if x == \"Roll Advert\" else 0, IntegerType())\n",
    "flag_settings_event = udf(lambda x: 1 if x == \"Settings\" else 0, IntegerType())\n",
    "flag_addtoplaylist_event = udf(lambda x: 1 if x == \"Add to Playlist\" else 0, IntegerType())\n",
    "flag_addfriend_event = udf(lambda x: 1 if x == \"Add Friend\" else 0, IntegerType())\n",
    "flag_help_event = udf(lambda x: 1 if x == \"Help\" else 0, IntegerType())\n",
    "flag_error_event = udf(lambda x: 1 if x == \"Error\" else 0, IntegerType())\n",
    "flag_song_event = udf(lambda x: 1 if x == \"NextSong\" else 0, IntegerType())"
   ]
  },
  {
   "cell_type": "code",
   "execution_count": 27,
   "metadata": {},
   "outputs": [],
   "source": [
    "# Add page event flags to the user log\n",
    "user_log_valid = user_log_valid.withColumn(\"thumbsdown\", flag_thumbsdown_event(\"page\"))\n",
    "user_log_valid = user_log_valid.withColumn(\"thumbsup\", flag_thumbsup_event(\"page\"))\n",
    "user_log_valid = user_log_valid.withColumn(\"advert\", flag_rolladvert_event(\"page\"))\n",
    "user_log_valid = user_log_valid.withColumn(\"settings\", flag_settings_event(\"page\"))\n",
    "user_log_valid = user_log_valid.withColumn(\"addtoplaylist\", flag_addtoplaylist_event(\"page\"))\n",
    "user_log_valid = user_log_valid.withColumn(\"friend\", flag_addfriend_event(\"page\"))\n",
    "user_log_valid = user_log_valid.withColumn(\"help\", flag_help_event(\"page\"))\n",
    "user_log_valid = user_log_valid.withColumn(\"error\", flag_error_event(\"page\"))\n",
    "user_log_valid = user_log_valid.withColumn(\"song\", flag_error_event(\"page\"))"
   ]
  },
  {
   "cell_type": "markdown",
   "metadata": {},
   "source": [
    "Next, sum the number of visits to given pages over session ID to find how often different events happen for a user for a given session."
   ]
  },
  {
   "cell_type": "code",
   "execution_count": 28,
   "metadata": {},
   "outputs": [],
   "source": [
    "# First aggregation to find numbers of key page events using flags for each session\n",
    "agg1 = user_log_valid.groupBy('userId','sessionId').agg({'thumbsdown':'sum', 'thumbsup':'sum', 'advert':'sum', \n",
    "                                                     'settings':'sum', 'addtoplaylist':'sum', 'friend':'sum',\n",
    "                                                     'help':'sum', 'error':'sum', 'downgraded':'max', 'song':'sum',\n",
    "                                                     'Male':'max','Female':'max','Paid':'max','Free':'max',\n",
    "                                                     'phase':'max'})"
   ]
  },
  {
   "cell_type": "markdown",
   "metadata": {},
   "source": [
    "Then, we aggregate again over user and phase to determine the average amount of times an event happens in a session for a given churn/non-churn data point to see what typical behavior looks like."
   ]
  },
  {
   "cell_type": "code",
   "execution_count": 29,
   "metadata": {},
   "outputs": [],
   "source": [
    "agg2 = agg1.groupBy('userId','max(phase)').agg({'sum(thumbsdown)':'avg', 'sum(thumbsup)':'avg', 'sum(advert)':'avg', \n",
    "                                                'sum(settings)':'avg', 'sum(addtoplaylist)':'avg', 'sum(friend)':'avg',\n",
    "                                                'sum(help)':'avg', 'sum(error)':'avg', 'sum(song)':'avg', 'max(Male)':'avg',\n",
    "                                                'max(Female)':'avg','max(Paid)':'avg','max(Free)':'avg','max(downgraded)':'max'})\n"
   ]
  },
  {
   "cell_type": "markdown",
   "metadata": {},
   "source": [
    "After creating features in the log, we must create a \"ScaledFeatures\" variable for model training.  This is done by combining created features and scaling the results so that larger numbers don't have an oversized impact on modeling later."
   ]
  },
  {
   "cell_type": "code",
   "execution_count": 30,
   "metadata": {},
   "outputs": [],
   "source": [
    "# Assemble vector with numerical features\n",
    "assembler = VectorAssembler(inputCols=[\"avg(sum(thumbsdown))\", \"avg(sum(thumbsup))\", \"avg(sum(advert))\", \"avg(sum(settings))\", \n",
    "                                       \"avg(sum(addtoplaylist))\",\"avg(sum(friend))\", \"avg(sum(help))\", \"avg(sum(error))\", \n",
    "                                       \"avg(sum(song))\", \"avg(max(Male))\", \"avg(max(Female))\", \"avg(max(Paid))\", \n",
    "                                       \"avg(max(Free))\"], outputCol=\"NumFeatures\")\n",
    "ML_df = assembler.transform(agg2)"
   ]
  },
  {
   "cell_type": "markdown",
   "metadata": {},
   "source": [
    "Note that we use the Normalizer scaler here instead of adjusting for mean/standard deviation.  I wanted to avoid transforming features into negative values to help in understandability later on.  Values also tend to be relatively close to each other here, so a complex normalization scheme is not required."
   ]
  },
  {
   "cell_type": "code",
   "execution_count": 35,
   "metadata": {},
   "outputs": [],
   "source": [
    "# Use a standard scaler to normalize the feature data for the maximum values in the data set. \n",
    "# This ensures that feature values will stay positive, making them easier to understand.\n",
    "scaler = Normalizer(inputCol=\"NumFeatures\", outputCol=\"ScaledFeatures\")\n",
    "ML_df = scaler.transform(ML_df)"
   ]
  },
  {
   "cell_type": "markdown",
   "metadata": {},
   "source": [
    "# Modeling\n",
    "Try various methods for predicting churn now that our data is prepared and see what is most effective."
   ]
  },
  {
   "cell_type": "markdown",
   "metadata": {},
   "source": [
    "Update the labels for our variables for convenience in using the pyspark machnine learning tools and split the data between trianing and testing data."
   ]
  },
  {
   "cell_type": "code",
   "execution_count": 33,
   "metadata": {},
   "outputs": [],
   "source": [
    "# Create dataframe with correct labels for easy model fitting\n",
    "data = ML_df.select(col('max(max(downgraded))').alias(\"label\"), col('ScaledFeatures').alias(\"features\"))"
   ]
  },
  {
   "cell_type": "code",
   "execution_count": 34,
   "metadata": {},
   "outputs": [],
   "source": [
    "# Split training/rest of the data\n",
    "train, test = data.randomSplit([0.7, 0.3])"
   ]
  },
  {
   "cell_type": "markdown",
   "metadata": {},
   "source": [
    "First, I will try a linear regression model to see if the features I set up are helpful.  It will also show an early estimate of how relativley important each feature is."
   ]
  },
  {
   "cell_type": "code",
   "execution_count": 36,
   "metadata": {},
   "outputs": [],
   "source": [
    "# Set up Model\n",
    "lr = LinearRegression(maxIter=10, regParam=0.0, fitIntercept=False, solver=\"normal\")"
   ]
  },
  {
   "cell_type": "code",
   "execution_count": 37,
   "metadata": {},
   "outputs": [],
   "source": [
    "# Fit model\n",
    "lrModel = lr.fit(train)"
   ]
  },
  {
   "cell_type": "code",
   "execution_count": 38,
   "metadata": {},
   "outputs": [
    {
     "data": {
      "text/plain": [
       "DenseVector([1.1616, -0.1564, 0.3208, 0.4214, 0.6311, -0.2781, 0.6587, -0.8712, -0.8712, -5.0093, -4.8391, 4.9309, 4.2912])"
      ]
     },
     "execution_count": 38,
     "metadata": {},
     "output_type": "execute_result"
    }
   ],
   "source": [
    "# See influence of different variables\n",
    "lrModel.coefficients"
   ]
  },
  {
   "cell_type": "markdown",
   "metadata": {},
   "source": [
    "Visualize the size of different coefficients.  We see that things like Errors, going to Help, and thumbing down songs is associated with more churn.  Things like adding friends and liking songs is associated with less churn.  It looks like the data makes sense, but R2 scores are not especially high.  Before tuning the lienar model further, we can see if classification models are more effective."
   ]
  },
  {
   "cell_type": "code",
   "execution_count": 40,
   "metadata": {},
   "outputs": [
    {
     "data": {
      "image/png": "[encoded data removed]",
      "text/plain": [
       "<matplotlib.figure.Figure at 0x792d08dcc5f8>"
      ]
     },
     "metadata": {
      "needs_background": "light"
     },
     "output_type": "display_data"
    }
   ],
   "source": [
    "# Visualize the size of different coefficients\n",
    "coef = [\"thumbsdown\", \"thumbsup\", \"advert\", \"settings\", \"addtoplaylist\",\"friend\", \"help\", \"error\", \n",
    "        \"song\", \"Male\", \"Female\", \"Paid\", \"Free\"]\n",
    "weight = lrModel.coefficients\n",
    "\n",
    "fig, ax = plt.subplots(figsize =(16, 9))\n",
    "ax.barh(coef, weight)\n",
    "ax.set_title('Churn Coefficients')\n",
    "\n",
    "# Show Plot\n",
    "plt.show()"
   ]
  },
  {
   "cell_type": "code",
   "execution_count": 53,
   "metadata": {},
   "outputs": [
    {
     "data": {
      "text/plain": [
       "0.5416801555580528"
      ]
     },
     "execution_count": 53,
     "metadata": {},
     "output_type": "execute_result"
    }
   ],
   "source": [
    "# See model R2\n",
    "lrModelSummary = lrModel.summary\n",
    "lrModelSummary.r2"
   ]
  },
  {
   "cell_type": "markdown",
   "metadata": {},
   "source": [
    "We can further develop our prediction model by trying various machine learning classifiers.  For now we'll start with a Random Forrest Classifier, a Support Vector Machine, and a Logisitc Regression Model.  \n",
    "We will use the F1 score to tune our model since we do not have an even number of examples of churn vs no-churn.  Compared to accuracy, F1 helps insulate our model from simply selecting the more common occurence of no-churn most of the time as we try to tune it."
   ]
  },
  {
   "cell_type": "code",
   "execution_count": 41,
   "metadata": {},
   "outputs": [],
   "source": [
    "# Set up a Random Forest Classifier Model\n",
    "rf = RandomForestClassifier(labelCol=\"label\", featuresCol=\"features\")"
   ]
  },
  {
   "cell_type": "code",
   "execution_count": 42,
   "metadata": {},
   "outputs": [],
   "source": [
    "# Fit the model to the training data\n",
    "rfModel = rf.fit(train)"
   ]
  },
  {
   "cell_type": "code",
   "execution_count": 43,
   "metadata": {},
   "outputs": [],
   "source": [
    "# Create predictions for the test data set\n",
    "predictions = rfModel.transform(test)"
   ]
  },
  {
   "cell_type": "code",
   "execution_count": 44,
   "metadata": {},
   "outputs": [
    {
     "name": "stdout",
     "output_type": "stream",
     "text": [
      "0.6477130325814535\n"
     ]
    }
   ],
   "source": [
    "# Evaluate the F1 score for the basic Random Forest Classifier\n",
    "evaluator = MulticlassClassificationEvaluator(labelCol=\"label\", predictionCol=\"prediction\", metricName=\"f1\")\n",
    "F1 = evaluator.evaluate(predictions)\n",
    "print(F1)"
   ]
  },
  {
   "cell_type": "code",
   "execution_count": 59,
   "metadata": {},
   "outputs": [],
   "source": [
    "# Set up a Suport Vector Machine Classifier\n",
    "sv = LinearSVC(labelCol=\"label\", featuresCol=\"features\")"
   ]
  },
  {
   "cell_type": "code",
   "execution_count": 60,
   "metadata": {},
   "outputs": [],
   "source": [
    "# Fit the model to the training data\n",
    "svModel = sv.fit(train)"
   ]
  },
  {
   "cell_type": "code",
   "execution_count": 64,
   "metadata": {},
   "outputs": [],
   "source": [
    "# Create predictions for the test data set\n",
    "prediction = svModel.transform(test)"
   ]
  },
  {
   "cell_type": "code",
   "execution_count": 65,
   "metadata": {},
   "outputs": [
    {
     "name": "stdout",
     "output_type": "stream",
     "text": [
      "0.6368192335910605\n"
     ]
    }
   ],
   "source": [
    "# Create predictions for the test data set\n",
    "F1 = evaluator.evaluate(prediction)\n",
    "print(F1)"
   ]
  },
  {
   "cell_type": "code",
   "execution_count": 66,
   "metadata": {},
   "outputs": [],
   "source": [
    "# Set up a Logistic Regression Classifier\n",
    "lr = LogisticRegression(labelCol=\"label\", featuresCol=\"features\")"
   ]
  },
  {
   "cell_type": "code",
   "execution_count": 67,
   "metadata": {},
   "outputs": [],
   "source": [
    "# Fit the model to the training data\n",
    "lrModel = lr.fit(train)"
   ]
  },
  {
   "cell_type": "code",
   "execution_count": 68,
   "metadata": {},
   "outputs": [],
   "source": [
    "# Create predictions for the test data set\n",
    "prediction = lrModel.transform(test)"
   ]
  },
  {
   "cell_type": "code",
   "execution_count": 69,
   "metadata": {},
   "outputs": [
    {
     "name": "stdout",
     "output_type": "stream",
     "text": [
      "0.6886713982540287\n"
     ]
    }
   ],
   "source": [
    "# Create predictions for the test data set\n",
    "F1 = evaluator.evaluate(prediction)\n",
    "print(F1)"
   ]
  },
  {
   "cell_type": "markdown",
   "metadata": {},
   "source": [
    "By comparing the F1 scores of the base versions of different models, we see that the Logistic Regression is already off to a good start with an F1 of almost 0.7.  "
   ]
  },
  {
   "cell_type": "markdown",
   "metadata": {},
   "source": [
    "We can try to further improve our model by doing a grid search of hyperparameters of a Logistic Regression Model.  Unfortunately, there are not too many options here, but we can consider whether or not we fit an intercept or standardize the data."
   ]
  },
  {
   "cell_type": "code",
   "execution_count": 70,
   "metadata": {},
   "outputs": [],
   "source": [
    "# Cross Validation setup for logistic regression\n",
    "paramGrid = ParamGridBuilder().addGrid(lr.fitIntercept, [True, False]).addGrid(lr.standardization, [True, False]).build()\n",
    "\n",
    "crossval = CrossValidator(estimator = lr, estimatorParamMaps = paramGrid, \n",
    "                          evaluator = MulticlassClassificationEvaluator(metricName=\"f1\"))"
   ]
  },
  {
   "cell_type": "code",
   "execution_count": 71,
   "metadata": {},
   "outputs": [],
   "source": [
    "# Train the cross validation model on the training data\n",
    "cvModel = crossval.fit(train)"
   ]
  },
  {
   "cell_type": "code",
   "execution_count": 72,
   "metadata": {},
   "outputs": [
    {
     "data": {
      "text/plain": [
       "[0.6420637251724449,\n",
       " 0.6420637251724449,\n",
       " 0.6558321231986786,\n",
       " 0.6558321231986786]"
      ]
     },
     "execution_count": 72,
     "metadata": {},
     "output_type": "execute_result"
    }
   ],
   "source": [
    "# Find average accuracy metrics for paramgrid results\n",
    "cvModel.avgMetrics\n"
   ]
  },
  {
   "cell_type": "markdown",
   "metadata": {},
   "source": [
    "Ultimately we find that not fitting an intercept provides the most effective model and that standardization doesn't make much of a difference.  This makes sense since the data was already pretty well standardized.  Further optimization and using the larger data set could likley improve this model even further."
   ]
  }
 ],
 "metadata": {
  "kernelspec": {
   "display_name": "Python 3",
   "language": "python",
   "name": "python3"
  },
  "language_info": {
   "codemirror_mode": {
    "name": "ipython",
    "version": 3
   },
   "file_extension": ".py",
   "mimetype": "text/x-python",
   "name": "python",
   "nbconvert_exporter": "python",
   "pygments_lexer": "ipython3",
   "version": "3.6.3"
  }
 },
 "nbformat": 4,
 "nbformat_minor": 2
}
